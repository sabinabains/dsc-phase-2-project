{
 "cells": [
  {
   "cell_type": "markdown",
   "metadata": {},
   "source": [
    "# Final Project Submission"
   ]
  },
  {
   "cell_type": "raw",
   "metadata": {},
   "source": [
    "* Student name: Sabina Bains\n",
    "* Student pace: Self Paced\n",
    "* Scheduled project review date / time: 1/19/2022 @ 1 pm PCT\n",
    "* Instructor name: Claude Fried"
   ]
  },
  {
   "cell_type": "markdown",
   "metadata": {},
   "source": [
    "## Business Understanding"
   ]
  },
  {
   "cell_type": "raw",
   "metadata": {},
   "source": [
    "Business Problem:\n",
    "\n",
    "King County Healing Association (KCHA) has reached out to you to help get previously incarcerated individuals get back on their feet.\n",
    "\n",
    "KCHA is an established nonprofit organization that has a variety of successful initiatives such as rehabilitation centers, medical assistance, career services, and temporary housing for those re-entering their communities. The organization now wants to expand on their housing opportunities by rolling out a new service to help those who are prepared to transition into a permanent residence.  \n",
    "\n",
    "Unfortunately, those with criminal records tend to be discriminated against even after serving their sentence, and often banks do not lend money to these individuals. Additionally, those previously incarcerated could have bad credit or a lack of savings. Because of all this, KCHA plans to borrow from banks themselves and provide the down payment for applicants of this program. The new tenants can then pay off their mortgage to KCHA monthly, while additionally paying back the down payment over time. \n",
    "\n",
    "Along with requirements to ensure the applicants have a stable income and can pay off their debt, KCHA requires tenants to choose homes within the same zipcode of their parole officer (if applicable).\n",
    "\n",
    "KCHA doesn't plan to launch this service for another 3 years, and therefore are in the preliminary stages. The organization estimates they will assist 5 families in their first year of the program, and would like our help estimating the total down payment cost based on these family's parole office location, household size, and general preferences."
   ]
  },
  {
   "cell_type": "markdown",
   "metadata": {},
   "source": [
    "## Data Understanding"
   ]
  },
  {
   "cell_type": "markdown",
   "metadata": {},
   "source": [
    "#### Importing Packages and Reading in Data"
   ]
  },
  {
   "cell_type": "code",
   "execution_count": 2,
   "metadata": {},
   "outputs": [],
   "source": [
    "# importing necessary packages\n",
    "import pandas as pd\n",
    "import matplotlib.pyplot as plt\n",
    "from matplotlib import style\n",
    "%matplotlib inline\n",
    "import statsmodels.stats.stattools as stattools\n",
    "import statsmodels.api as sm\n",
    "import statsmodels.stats.api as sms\n",
    "import statsmodels.formula.api as smf\n",
    "from sklearn import linear_model\n",
    "import scipy.stats as stats\n",
    "import seaborn as sns\n",
    "import numpy as np\n",
    "import warnings\n",
    "from math import e\n",
    "\n",
    "warnings.filterwarnings('ignore')\n",
    "style.use('dark_background')\n",
    "pd.set_option(\"display.max_columns\", 999)\n",
    "pd.set_option(\"display.max_rows\", 999)"
   ]
  },
  {
   "cell_type": "code",
   "execution_count": 3,
   "metadata": {},
   "outputs": [],
   "source": [
    "# importing King County House Sales dataset\n",
    "df = pd.read_csv('data/kc_house_data.csv')"
   ]
  },
  {
   "cell_type": "markdown",
   "metadata": {},
   "source": [
    "#### Looking at sample # / number of predictors / basic statistics"
   ]
  },
  {
   "cell_type": "code",
   "execution_count": 4,
   "metadata": {},
   "outputs": [
    {
     "name": "stdout",
     "output_type": "stream",
     "text": [
      "This data set has 21597 rows and 21 columns.\n"
     ]
    }
   ],
   "source": [
    "print('''This data set has {} rows and {} columns.'''.format(df.shape[0],df.shape[1]))"
   ]
  },
  {
   "cell_type": "code",
   "execution_count": 5,
   "metadata": {
    "scrolled": true
   },
   "outputs": [
    {
     "data": {
      "text/html": [
       "<div>\n",
       "<style scoped>\n",
       "    .dataframe tbody tr th:only-of-type {\n",
       "        vertical-align: middle;\n",
       "    }\n",
       "\n",
       "    .dataframe tbody tr th {\n",
       "        vertical-align: top;\n",
       "    }\n",
       "\n",
       "    .dataframe thead th {\n",
       "        text-align: right;\n",
       "    }\n",
       "</style>\n",
       "<table border=\"1\" class=\"dataframe\">\n",
       "  <thead>\n",
       "    <tr style=\"text-align: right;\">\n",
       "      <th></th>\n",
       "      <th>id</th>\n",
       "      <th>date</th>\n",
       "      <th>price</th>\n",
       "      <th>bedrooms</th>\n",
       "      <th>bathrooms</th>\n",
       "      <th>sqft_living</th>\n",
       "      <th>sqft_lot</th>\n",
       "      <th>floors</th>\n",
       "      <th>waterfront</th>\n",
       "      <th>view</th>\n",
       "      <th>condition</th>\n",
       "      <th>grade</th>\n",
       "      <th>sqft_above</th>\n",
       "      <th>sqft_basement</th>\n",
       "      <th>yr_built</th>\n",
       "      <th>yr_renovated</th>\n",
       "      <th>zipcode</th>\n",
       "      <th>lat</th>\n",
       "      <th>long</th>\n",
       "      <th>sqft_living15</th>\n",
       "      <th>sqft_lot15</th>\n",
       "    </tr>\n",
       "  </thead>\n",
       "  <tbody>\n",
       "    <tr>\n",
       "      <th>0</th>\n",
       "      <td>7129300520</td>\n",
       "      <td>10/13/2014</td>\n",
       "      <td>221900.0</td>\n",
       "      <td>3</td>\n",
       "      <td>1.00</td>\n",
       "      <td>1180</td>\n",
       "      <td>5650</td>\n",
       "      <td>1.0</td>\n",
       "      <td>NaN</td>\n",
       "      <td>0.0</td>\n",
       "      <td>3</td>\n",
       "      <td>7</td>\n",
       "      <td>1180</td>\n",
       "      <td>0.0</td>\n",
       "      <td>1955</td>\n",
       "      <td>0.0</td>\n",
       "      <td>98178</td>\n",
       "      <td>47.5112</td>\n",
       "      <td>-122.257</td>\n",
       "      <td>1340</td>\n",
       "      <td>5650</td>\n",
       "    </tr>\n",
       "    <tr>\n",
       "      <th>1</th>\n",
       "      <td>6414100192</td>\n",
       "      <td>12/9/2014</td>\n",
       "      <td>538000.0</td>\n",
       "      <td>3</td>\n",
       "      <td>2.25</td>\n",
       "      <td>2570</td>\n",
       "      <td>7242</td>\n",
       "      <td>2.0</td>\n",
       "      <td>0.0</td>\n",
       "      <td>0.0</td>\n",
       "      <td>3</td>\n",
       "      <td>7</td>\n",
       "      <td>2170</td>\n",
       "      <td>400.0</td>\n",
       "      <td>1951</td>\n",
       "      <td>1991.0</td>\n",
       "      <td>98125</td>\n",
       "      <td>47.7210</td>\n",
       "      <td>-122.319</td>\n",
       "      <td>1690</td>\n",
       "      <td>7639</td>\n",
       "    </tr>\n",
       "    <tr>\n",
       "      <th>2</th>\n",
       "      <td>5631500400</td>\n",
       "      <td>2/25/2015</td>\n",
       "      <td>180000.0</td>\n",
       "      <td>2</td>\n",
       "      <td>1.00</td>\n",
       "      <td>770</td>\n",
       "      <td>10000</td>\n",
       "      <td>1.0</td>\n",
       "      <td>0.0</td>\n",
       "      <td>0.0</td>\n",
       "      <td>3</td>\n",
       "      <td>6</td>\n",
       "      <td>770</td>\n",
       "      <td>0.0</td>\n",
       "      <td>1933</td>\n",
       "      <td>NaN</td>\n",
       "      <td>98028</td>\n",
       "      <td>47.7379</td>\n",
       "      <td>-122.233</td>\n",
       "      <td>2720</td>\n",
       "      <td>8062</td>\n",
       "    </tr>\n",
       "    <tr>\n",
       "      <th>3</th>\n",
       "      <td>2487200875</td>\n",
       "      <td>12/9/2014</td>\n",
       "      <td>604000.0</td>\n",
       "      <td>4</td>\n",
       "      <td>3.00</td>\n",
       "      <td>1960</td>\n",
       "      <td>5000</td>\n",
       "      <td>1.0</td>\n",
       "      <td>0.0</td>\n",
       "      <td>0.0</td>\n",
       "      <td>5</td>\n",
       "      <td>7</td>\n",
       "      <td>1050</td>\n",
       "      <td>910.0</td>\n",
       "      <td>1965</td>\n",
       "      <td>0.0</td>\n",
       "      <td>98136</td>\n",
       "      <td>47.5208</td>\n",
       "      <td>-122.393</td>\n",
       "      <td>1360</td>\n",
       "      <td>5000</td>\n",
       "    </tr>\n",
       "    <tr>\n",
       "      <th>4</th>\n",
       "      <td>1954400510</td>\n",
       "      <td>2/18/2015</td>\n",
       "      <td>510000.0</td>\n",
       "      <td>3</td>\n",
       "      <td>2.00</td>\n",
       "      <td>1680</td>\n",
       "      <td>8080</td>\n",
       "      <td>1.0</td>\n",
       "      <td>0.0</td>\n",
       "      <td>0.0</td>\n",
       "      <td>3</td>\n",
       "      <td>8</td>\n",
       "      <td>1680</td>\n",
       "      <td>0.0</td>\n",
       "      <td>1987</td>\n",
       "      <td>0.0</td>\n",
       "      <td>98074</td>\n",
       "      <td>47.6168</td>\n",
       "      <td>-122.045</td>\n",
       "      <td>1800</td>\n",
       "      <td>7503</td>\n",
       "    </tr>\n",
       "  </tbody>\n",
       "</table>\n",
       "</div>"
      ],
      "text/plain": [
       "           id        date     price  bedrooms  bathrooms  sqft_living  \\\n",
       "0  7129300520  10/13/2014  221900.0         3       1.00         1180   \n",
       "1  6414100192   12/9/2014  538000.0         3       2.25         2570   \n",
       "2  5631500400   2/25/2015  180000.0         2       1.00          770   \n",
       "3  2487200875   12/9/2014  604000.0         4       3.00         1960   \n",
       "4  1954400510   2/18/2015  510000.0         3       2.00         1680   \n",
       "\n",
       "   sqft_lot  floors  waterfront  view  condition  grade  sqft_above  \\\n",
       "0      5650     1.0         NaN   0.0          3      7        1180   \n",
       "1      7242     2.0         0.0   0.0          3      7        2170   \n",
       "2     10000     1.0         0.0   0.0          3      6         770   \n",
       "3      5000     1.0         0.0   0.0          5      7        1050   \n",
       "4      8080     1.0         0.0   0.0          3      8        1680   \n",
       "\n",
       "  sqft_basement  yr_built  yr_renovated  zipcode      lat     long  \\\n",
       "0           0.0      1955           0.0    98178  47.5112 -122.257   \n",
       "1         400.0      1951        1991.0    98125  47.7210 -122.319   \n",
       "2           0.0      1933           NaN    98028  47.7379 -122.233   \n",
       "3         910.0      1965           0.0    98136  47.5208 -122.393   \n",
       "4           0.0      1987           0.0    98074  47.6168 -122.045   \n",
       "\n",
       "   sqft_living15  sqft_lot15  \n",
       "0           1340        5650  \n",
       "1           1690        7639  \n",
       "2           2720        8062  \n",
       "3           1360        5000  \n",
       "4           1800        7503  "
      ]
     },
     "execution_count": 5,
     "metadata": {},
     "output_type": "execute_result"
    }
   ],
   "source": [
    "# looks like price is the dependent variable with 20 potential predictors\n",
    "df.head()"
   ]
  },
  {
   "cell_type": "code",
   "execution_count": 6,
   "metadata": {
    "scrolled": true
   },
   "outputs": [
    {
     "data": {
      "text/html": [
       "<div>\n",
       "<style scoped>\n",
       "    .dataframe tbody tr th:only-of-type {\n",
       "        vertical-align: middle;\n",
       "    }\n",
       "\n",
       "    .dataframe tbody tr th {\n",
       "        vertical-align: top;\n",
       "    }\n",
       "\n",
       "    .dataframe thead th {\n",
       "        text-align: right;\n",
       "    }\n",
       "</style>\n",
       "<table border=\"1\" class=\"dataframe\">\n",
       "  <thead>\n",
       "    <tr style=\"text-align: right;\">\n",
       "      <th></th>\n",
       "      <th>id</th>\n",
       "      <th>price</th>\n",
       "      <th>bedrooms</th>\n",
       "      <th>bathrooms</th>\n",
       "      <th>sqft_living</th>\n",
       "      <th>sqft_lot</th>\n",
       "      <th>floors</th>\n",
       "      <th>waterfront</th>\n",
       "      <th>view</th>\n",
       "      <th>condition</th>\n",
       "      <th>grade</th>\n",
       "      <th>sqft_above</th>\n",
       "      <th>yr_built</th>\n",
       "      <th>yr_renovated</th>\n",
       "      <th>zipcode</th>\n",
       "      <th>lat</th>\n",
       "      <th>long</th>\n",
       "      <th>sqft_living15</th>\n",
       "      <th>sqft_lot15</th>\n",
       "    </tr>\n",
       "  </thead>\n",
       "  <tbody>\n",
       "    <tr>\n",
       "      <th>count</th>\n",
       "      <td>2.159700e+04</td>\n",
       "      <td>2.159700e+04</td>\n",
       "      <td>21597.000000</td>\n",
       "      <td>21597.000000</td>\n",
       "      <td>21597.000000</td>\n",
       "      <td>2.159700e+04</td>\n",
       "      <td>21597.000000</td>\n",
       "      <td>19221.000000</td>\n",
       "      <td>21534.000000</td>\n",
       "      <td>21597.000000</td>\n",
       "      <td>21597.000000</td>\n",
       "      <td>21597.000000</td>\n",
       "      <td>21597.000000</td>\n",
       "      <td>17755.000000</td>\n",
       "      <td>21597.000000</td>\n",
       "      <td>21597.000000</td>\n",
       "      <td>21597.000000</td>\n",
       "      <td>21597.000000</td>\n",
       "      <td>21597.000000</td>\n",
       "    </tr>\n",
       "    <tr>\n",
       "      <th>mean</th>\n",
       "      <td>4.580474e+09</td>\n",
       "      <td>5.402966e+05</td>\n",
       "      <td>3.373200</td>\n",
       "      <td>2.115826</td>\n",
       "      <td>2080.321850</td>\n",
       "      <td>1.509941e+04</td>\n",
       "      <td>1.494096</td>\n",
       "      <td>0.007596</td>\n",
       "      <td>0.233863</td>\n",
       "      <td>3.409825</td>\n",
       "      <td>7.657915</td>\n",
       "      <td>1788.596842</td>\n",
       "      <td>1970.999676</td>\n",
       "      <td>83.636778</td>\n",
       "      <td>98077.951845</td>\n",
       "      <td>47.560093</td>\n",
       "      <td>-122.213982</td>\n",
       "      <td>1986.620318</td>\n",
       "      <td>12758.283512</td>\n",
       "    </tr>\n",
       "    <tr>\n",
       "      <th>std</th>\n",
       "      <td>2.876736e+09</td>\n",
       "      <td>3.673681e+05</td>\n",
       "      <td>0.926299</td>\n",
       "      <td>0.768984</td>\n",
       "      <td>918.106125</td>\n",
       "      <td>4.141264e+04</td>\n",
       "      <td>0.539683</td>\n",
       "      <td>0.086825</td>\n",
       "      <td>0.765686</td>\n",
       "      <td>0.650546</td>\n",
       "      <td>1.173200</td>\n",
       "      <td>827.759761</td>\n",
       "      <td>29.375234</td>\n",
       "      <td>399.946414</td>\n",
       "      <td>53.513072</td>\n",
       "      <td>0.138552</td>\n",
       "      <td>0.140724</td>\n",
       "      <td>685.230472</td>\n",
       "      <td>27274.441950</td>\n",
       "    </tr>\n",
       "    <tr>\n",
       "      <th>min</th>\n",
       "      <td>1.000102e+06</td>\n",
       "      <td>7.800000e+04</td>\n",
       "      <td>1.000000</td>\n",
       "      <td>0.500000</td>\n",
       "      <td>370.000000</td>\n",
       "      <td>5.200000e+02</td>\n",
       "      <td>1.000000</td>\n",
       "      <td>0.000000</td>\n",
       "      <td>0.000000</td>\n",
       "      <td>1.000000</td>\n",
       "      <td>3.000000</td>\n",
       "      <td>370.000000</td>\n",
       "      <td>1900.000000</td>\n",
       "      <td>0.000000</td>\n",
       "      <td>98001.000000</td>\n",
       "      <td>47.155900</td>\n",
       "      <td>-122.519000</td>\n",
       "      <td>399.000000</td>\n",
       "      <td>651.000000</td>\n",
       "    </tr>\n",
       "    <tr>\n",
       "      <th>25%</th>\n",
       "      <td>2.123049e+09</td>\n",
       "      <td>3.220000e+05</td>\n",
       "      <td>3.000000</td>\n",
       "      <td>1.750000</td>\n",
       "      <td>1430.000000</td>\n",
       "      <td>5.040000e+03</td>\n",
       "      <td>1.000000</td>\n",
       "      <td>0.000000</td>\n",
       "      <td>0.000000</td>\n",
       "      <td>3.000000</td>\n",
       "      <td>7.000000</td>\n",
       "      <td>1190.000000</td>\n",
       "      <td>1951.000000</td>\n",
       "      <td>0.000000</td>\n",
       "      <td>98033.000000</td>\n",
       "      <td>47.471100</td>\n",
       "      <td>-122.328000</td>\n",
       "      <td>1490.000000</td>\n",
       "      <td>5100.000000</td>\n",
       "    </tr>\n",
       "    <tr>\n",
       "      <th>50%</th>\n",
       "      <td>3.904930e+09</td>\n",
       "      <td>4.500000e+05</td>\n",
       "      <td>3.000000</td>\n",
       "      <td>2.250000</td>\n",
       "      <td>1910.000000</td>\n",
       "      <td>7.618000e+03</td>\n",
       "      <td>1.500000</td>\n",
       "      <td>0.000000</td>\n",
       "      <td>0.000000</td>\n",
       "      <td>3.000000</td>\n",
       "      <td>7.000000</td>\n",
       "      <td>1560.000000</td>\n",
       "      <td>1975.000000</td>\n",
       "      <td>0.000000</td>\n",
       "      <td>98065.000000</td>\n",
       "      <td>47.571800</td>\n",
       "      <td>-122.231000</td>\n",
       "      <td>1840.000000</td>\n",
       "      <td>7620.000000</td>\n",
       "    </tr>\n",
       "    <tr>\n",
       "      <th>75%</th>\n",
       "      <td>7.308900e+09</td>\n",
       "      <td>6.450000e+05</td>\n",
       "      <td>4.000000</td>\n",
       "      <td>2.500000</td>\n",
       "      <td>2550.000000</td>\n",
       "      <td>1.068500e+04</td>\n",
       "      <td>2.000000</td>\n",
       "      <td>0.000000</td>\n",
       "      <td>0.000000</td>\n",
       "      <td>4.000000</td>\n",
       "      <td>8.000000</td>\n",
       "      <td>2210.000000</td>\n",
       "      <td>1997.000000</td>\n",
       "      <td>0.000000</td>\n",
       "      <td>98118.000000</td>\n",
       "      <td>47.678000</td>\n",
       "      <td>-122.125000</td>\n",
       "      <td>2360.000000</td>\n",
       "      <td>10083.000000</td>\n",
       "    </tr>\n",
       "    <tr>\n",
       "      <th>max</th>\n",
       "      <td>9.900000e+09</td>\n",
       "      <td>7.700000e+06</td>\n",
       "      <td>33.000000</td>\n",
       "      <td>8.000000</td>\n",
       "      <td>13540.000000</td>\n",
       "      <td>1.651359e+06</td>\n",
       "      <td>3.500000</td>\n",
       "      <td>1.000000</td>\n",
       "      <td>4.000000</td>\n",
       "      <td>5.000000</td>\n",
       "      <td>13.000000</td>\n",
       "      <td>9410.000000</td>\n",
       "      <td>2015.000000</td>\n",
       "      <td>2015.000000</td>\n",
       "      <td>98199.000000</td>\n",
       "      <td>47.777600</td>\n",
       "      <td>-121.315000</td>\n",
       "      <td>6210.000000</td>\n",
       "      <td>871200.000000</td>\n",
       "    </tr>\n",
       "  </tbody>\n",
       "</table>\n",
       "</div>"
      ],
      "text/plain": [
       "                 id         price      bedrooms     bathrooms   sqft_living  \\\n",
       "count  2.159700e+04  2.159700e+04  21597.000000  21597.000000  21597.000000   \n",
       "mean   4.580474e+09  5.402966e+05      3.373200      2.115826   2080.321850   \n",
       "std    2.876736e+09  3.673681e+05      0.926299      0.768984    918.106125   \n",
       "min    1.000102e+06  7.800000e+04      1.000000      0.500000    370.000000   \n",
       "25%    2.123049e+09  3.220000e+05      3.000000      1.750000   1430.000000   \n",
       "50%    3.904930e+09  4.500000e+05      3.000000      2.250000   1910.000000   \n",
       "75%    7.308900e+09  6.450000e+05      4.000000      2.500000   2550.000000   \n",
       "max    9.900000e+09  7.700000e+06     33.000000      8.000000  13540.000000   \n",
       "\n",
       "           sqft_lot        floors    waterfront          view     condition  \\\n",
       "count  2.159700e+04  21597.000000  19221.000000  21534.000000  21597.000000   \n",
       "mean   1.509941e+04      1.494096      0.007596      0.233863      3.409825   \n",
       "std    4.141264e+04      0.539683      0.086825      0.765686      0.650546   \n",
       "min    5.200000e+02      1.000000      0.000000      0.000000      1.000000   \n",
       "25%    5.040000e+03      1.000000      0.000000      0.000000      3.000000   \n",
       "50%    7.618000e+03      1.500000      0.000000      0.000000      3.000000   \n",
       "75%    1.068500e+04      2.000000      0.000000      0.000000      4.000000   \n",
       "max    1.651359e+06      3.500000      1.000000      4.000000      5.000000   \n",
       "\n",
       "              grade    sqft_above      yr_built  yr_renovated       zipcode  \\\n",
       "count  21597.000000  21597.000000  21597.000000  17755.000000  21597.000000   \n",
       "mean       7.657915   1788.596842   1970.999676     83.636778  98077.951845   \n",
       "std        1.173200    827.759761     29.375234    399.946414     53.513072   \n",
       "min        3.000000    370.000000   1900.000000      0.000000  98001.000000   \n",
       "25%        7.000000   1190.000000   1951.000000      0.000000  98033.000000   \n",
       "50%        7.000000   1560.000000   1975.000000      0.000000  98065.000000   \n",
       "75%        8.000000   2210.000000   1997.000000      0.000000  98118.000000   \n",
       "max       13.000000   9410.000000   2015.000000   2015.000000  98199.000000   \n",
       "\n",
       "                lat          long  sqft_living15     sqft_lot15  \n",
       "count  21597.000000  21597.000000   21597.000000   21597.000000  \n",
       "mean      47.560093   -122.213982    1986.620318   12758.283512  \n",
       "std        0.138552      0.140724     685.230472   27274.441950  \n",
       "min       47.155900   -122.519000     399.000000     651.000000  \n",
       "25%       47.471100   -122.328000    1490.000000    5100.000000  \n",
       "50%       47.571800   -122.231000    1840.000000    7620.000000  \n",
       "75%       47.678000   -122.125000    2360.000000   10083.000000  \n",
       "max       47.777600   -121.315000    6210.000000  871200.000000  "
      ]
     },
     "execution_count": 6,
     "metadata": {},
     "output_type": "execute_result"
    }
   ],
   "source": [
    "# taking a look at basic stats of descriptors. price looks skewed based on differences in mean and median\n",
    "df.describe()"
   ]
  },
  {
   "cell_type": "markdown",
   "metadata": {},
   "source": [
    "#### Looking at distribution of continuous variables\n",
    "- not an assumption"
   ]
  },
  {
   "cell_type": "code",
   "execution_count": 19,
   "metadata": {},
   "outputs": [
    {
     "data": {
      "text/plain": [
       "Text(0.5, 1.0, 'Histogram of Price (MM)')"
      ]
     },
     "execution_count": 19,
     "metadata": {},
     "output_type": "execute_result"
    },
    {
     "data": {
      "image/png": "[encoded data removed]",
      "text/plain": [
       "<Figure size 1440x360 with 1 Axes>"
      ]
     },
     "metadata": {},
     "output_type": "display_data"
    }
   ],
   "source": [
    "# plt.figure(figsize = (25,300))\n",
    "df.hist('price',bins = 100, figsize = (20,5))\n",
    "plt.title('Histogram of Price (MM)')"
   ]
  },
  {
   "cell_type": "code",
   "execution_count": 6,
   "metadata": {
    "scrolled": true
   },
   "outputs": [
    {
     "data": {
      "image/png": "[encoded data removed]",
      "text/plain": [
       "<Figure size 432x288 with 1 Axes>"
      ]
     },
     "metadata": {},
     "output_type": "display_data"
    },
    {
     "data": {
      "image/png": "[encoded data removed]",
      "text/plain": [
       "<Figure size 432x288 with 1 Axes>"
      ]
     },
     "metadata": {},
     "output_type": "display_data"
    },
    {
     "data": {
      "image/png": "[encoded data removed]",
      "text/plain": [
       "<Figure size 432x288 with 1 Axes>"
      ]
     },
     "metadata": {},
     "output_type": "display_data"
    },
    {
     "data": {
      "image/png": "[encoded data removed]",
      "text/plain": [
       "<Figure size 432x288 with 1 Axes>"
      ]
     },
     "metadata": {},
     "output_type": "display_data"
    },
    {
     "data": {
      "image/png": "[encoded data removed]",
      "text/plain": [
       "<Figure size 432x288 with 1 Axes>"
      ]
     },
     "metadata": {},
     "output_type": "display_data"
    },
    {
     "data": {
      "image/png": "[encoded data removed]",
      "text/plain": [
       "<Figure size 432x288 with 1 Axes>"
      ]
     },
     "metadata": {},
     "output_type": "display_data"
    },
    {
     "data": {
      "image/png": "[encoded data removed]",
      "text/plain": [
       "<Figure size 432x288 with 1 Axes>"
      ]
     },
     "metadata": {},
     "output_type": "display_data"
    },
    {
     "data": {
      "image/png": "[encoded data removed]",
      "text/plain": [
       "<Figure size 432x288 with 1 Axes>"
      ]
     },
     "metadata": {},
     "output_type": "display_data"
    },
    {
     "data": {
      "image/png": "[encoded data removed]",
      "text/plain": [
       "<Figure size 432x288 with 1 Axes>"
      ]
     },
     "metadata": {},
     "output_type": "display_data"
    },
    {
     "data": {
      "image/png": "[encoded data removed]",
      "text/plain": [
       "<Figure size 432x288 with 1 Axes>"
      ]
     },
     "metadata": {},
     "output_type": "display_data"
    },
    {
     "data": {
      "image/png": "[encoded data removed]",
      "text/plain": [
       "<Figure size 432x288 with 1 Axes>"
      ]
     },
     "metadata": {},
     "output_type": "display_data"
    },
    {
     "data": {
      "image/png": "[encoded data removed]",
      "text/plain": [
       "<Figure size 432x288 with 1 Axes>"
      ]
     },
     "metadata": {},
     "output_type": "display_data"
    },
    {
     "data": {
      "image/png": "[encoded data removed]",
      "text/plain": [
       "<Figure size 432x288 with 1 Axes>"
      ]
     },
     "metadata": {},
     "output_type": "display_data"
    },
    {
     "data": {
      "image/png": "[encoded data removed]",
      "text/plain": [
       "<Figure size 432x288 with 1 Axes>"
      ]
     },
     "metadata": {},
     "output_type": "display_data"
    },
    {
     "data": {
      "image/png": "[encoded data removed]",
      "text/plain": [
       "<Figure size 432x288 with 1 Axes>"
      ]
     },
     "metadata": {},
     "output_type": "display_data"
    },
    {
     "data": {
      "image/png": "[encoded data removed]",
      "text/plain": [
       "<Figure size 432x288 with 1 Axes>"
      ]
     },
     "metadata": {},
     "output_type": "display_data"
    },
    {
     "data": {
      "image/png": "[encoded data removed]",
      "text/plain": [
       "<Figure size 432x288 with 1 Axes>"
      ]
     },
     "metadata": {},
     "output_type": "display_data"
    },
    {
     "data": {
      "image/png": "[encoded data removed]",
      "text/plain": [
       "<Figure size 432x288 with 1 Axes>"
      ]
     },
     "metadata": {},
     "output_type": "display_data"
    },
    {
     "data": {
      "image/png": "[encoded data removed]",
      "text/plain": [
       "<Figure size 432x288 with 1 Axes>"
      ]
     },
     "metadata": {},
     "output_type": "display_data"
    }
   ],
   "source": [
    "# Checking Normality of Variables (not an assumption, but just for reference)\n",
    "# id, floors, waterfront, view, yr_built, yr_renovated, zipcode, lat, long do not follow a normal dist. others seem skewed. \n",
    "for col in df.columns:\n",
    "    if df[col].dtype == np.float64 or df[col].dtype == np.int64:\n",
    "        df.hist(col,bins='auto')"
   ]
  },
  {
   "cell_type": "markdown",
   "metadata": {},
   "source": [
    "## Data Preparation"
   ]
  },
  {
   "cell_type": "markdown",
   "metadata": {},
   "source": [
    "#### Handling N/A's"
   ]
  },
  {
   "cell_type": "code",
   "execution_count": 7,
   "metadata": {},
   "outputs": [
    {
     "data": {
      "text/plain": [
       "id                  0\n",
       "date                0\n",
       "price               0\n",
       "bedrooms            0\n",
       "bathrooms           0\n",
       "sqft_living         0\n",
       "sqft_lot            0\n",
       "floors              0\n",
       "waterfront       2376\n",
       "view               63\n",
       "condition           0\n",
       "grade               0\n",
       "sqft_above          0\n",
       "sqft_basement       0\n",
       "yr_built            0\n",
       "yr_renovated     3842\n",
       "zipcode             0\n",
       "lat                 0\n",
       "long                0\n",
       "sqft_living15       0\n",
       "sqft_lot15          0\n",
       "dtype: int64"
      ]
     },
     "execution_count": 7,
     "metadata": {},
     "output_type": "execute_result"
    }
   ],
   "source": [
    "df.isna().sum()\n",
    "# looks like waterfront, view, and yr_renovated columns need to be addressed"
   ]
  },
  {
   "cell_type": "code",
   "execution_count": 8,
   "metadata": {},
   "outputs": [
    {
     "name": "stdout",
     "output_type": "stream",
     "text": [
      "Unique values are [nan  0.  1.] removing waterfront N/A's would remove 11.0% of the overall dataset. We can drop this column from the dataset since we \n",
      "are looking at affordable homes, and a waterfront property is not a priority\n"
     ]
    }
   ],
   "source": [
    "## checking waterfront column\n",
    "print('''Unique values are {} removing waterfront N/A's would remove {} of the overall dataset. We can drop this column from the dataset since we \n",
    "are looking at affordable homes, and a waterfront property is not a priority'''\n",
    "      .format(df.waterfront.unique(), '{:0.1%}'.format(df.waterfront.isna().sum() / len(df))))\n",
    "## dropping waterfront columns\n",
    "df.drop('waterfront',axis=1,inplace=True)"
   ]
  },
  {
   "cell_type": "code",
   "execution_count": 9,
   "metadata": {},
   "outputs": [],
   "source": [
    "## dropping views column\n",
    "df.drop('view',axis=1,inplace=True)"
   ]
  },
  {
   "cell_type": "code",
   "execution_count": 10,
   "metadata": {
    "scrolled": true
   },
   "outputs": [
    {
     "name": "stdout",
     "output_type": "stream",
     "text": [
      "removing view N/A's would remove 17.8% of the overall dataset. Let's assume N/A means no renovations.\n"
     ]
    }
   ],
   "source": [
    "## checking yr_renovated column\n",
    "print('''removing view N/A's would remove {} of the overall dataset. Let's assume N/A means no renovations.'''\n",
    "      .format('{:0.1%}'.format(df.yr_renovated.isna().sum() / len(df))))\n",
    "## filling N/A values with 0\n",
    "df.yr_renovated.fillna(0,inplace=True)"
   ]
  },
  {
   "cell_type": "markdown",
   "metadata": {},
   "source": [
    "#### Converting data types"
   ]
  },
  {
   "cell_type": "code",
   "execution_count": 11,
   "metadata": {},
   "outputs": [
    {
     "name": "stdout",
     "output_type": "stream",
     "text": [
      "<class 'pandas.core.frame.DataFrame'>\n",
      "RangeIndex: 21597 entries, 0 to 21596\n",
      "Data columns (total 19 columns):\n",
      " #   Column         Non-Null Count  Dtype  \n",
      "---  ------         --------------  -----  \n",
      " 0   id             21597 non-null  int64  \n",
      " 1   date           21597 non-null  object \n",
      " 2   price          21597 non-null  float64\n",
      " 3   bedrooms       21597 non-null  int64  \n",
      " 4   bathrooms      21597 non-null  float64\n",
      " 5   sqft_living    21597 non-null  int64  \n",
      " 6   sqft_lot       21597 non-null  int64  \n",
      " 7   floors         21597 non-null  float64\n",
      " 8   condition      21597 non-null  int64  \n",
      " 9   grade          21597 non-null  int64  \n",
      " 10  sqft_above     21597 non-null  int64  \n",
      " 11  sqft_basement  21597 non-null  object \n",
      " 12  yr_built       21597 non-null  int64  \n",
      " 13  yr_renovated   21597 non-null  float64\n",
      " 14  zipcode        21597 non-null  int64  \n",
      " 15  lat            21597 non-null  float64\n",
      " 16  long           21597 non-null  float64\n",
      " 17  sqft_living15  21597 non-null  int64  \n",
      " 18  sqft_lot15     21597 non-null  int64  \n",
      "dtypes: float64(6), int64(11), object(2)\n",
      "memory usage: 3.1+ MB\n"
     ]
    }
   ],
   "source": [
    "df.info()"
   ]
  },
  {
   "cell_type": "code",
   "execution_count": 12,
   "metadata": {},
   "outputs": [
    {
     "data": {
      "text/plain": [
       "array(['0.0', '400.0', '910.0', '1530.0', '?', '730.0'], dtype=object)"
      ]
     },
     "execution_count": 12,
     "metadata": {},
     "output_type": "execute_result"
    }
   ],
   "source": [
    "# sqft_basement is object type, should be numeric.\n",
    "df.sqft_basement.unique()[:6]"
   ]
  },
  {
   "cell_type": "code",
   "execution_count": 13,
   "metadata": {},
   "outputs": [],
   "source": [
    "## some rows have a \"?\" value. need to remove\n",
    "df = df.loc[~(df.sqft_basement == '?')]"
   ]
  },
  {
   "cell_type": "code",
   "execution_count": 14,
   "metadata": {},
   "outputs": [],
   "source": [
    "# changing ID and Zip columns to str type\n",
    "for col in ['id', 'zipcode']:\n",
    "    df[col] = df[col].astype(str)"
   ]
  },
  {
   "cell_type": "code",
   "execution_count": 15,
   "metadata": {},
   "outputs": [],
   "source": [
    "# changing columns to int type\n",
    "for col in ['id', 'price', 'bedrooms', 'sqft_living',\n",
    "       'sqft_lot', 'condition', 'grade', 'sqft_above',\n",
    "       'sqft_basement', 'yr_built', 'yr_renovated',\n",
    "       'sqft_living15', 'sqft_lot15']:\n",
    "    df[col] = df[col].astype(float).astype(int)"
   ]
  },
  {
   "cell_type": "code",
   "execution_count": 16,
   "metadata": {},
   "outputs": [
    {
     "name": "stdout",
     "output_type": "stream",
     "text": [
      "<class 'pandas.core.frame.DataFrame'>\n",
      "Int64Index: 21143 entries, 0 to 21596\n",
      "Data columns (total 19 columns):\n",
      " #   Column         Non-Null Count  Dtype  \n",
      "---  ------         --------------  -----  \n",
      " 0   id             21143 non-null  int64  \n",
      " 1   date           21143 non-null  object \n",
      " 2   price          21143 non-null  int64  \n",
      " 3   bedrooms       21143 non-null  int64  \n",
      " 4   bathrooms      21143 non-null  float64\n",
      " 5   sqft_living    21143 non-null  int64  \n",
      " 6   sqft_lot       21143 non-null  int64  \n",
      " 7   floors         21143 non-null  float64\n",
      " 8   condition      21143 non-null  int64  \n",
      " 9   grade          21143 non-null  int64  \n",
      " 10  sqft_above     21143 non-null  int64  \n",
      " 11  sqft_basement  21143 non-null  int64  \n",
      " 12  yr_built       21143 non-null  int64  \n",
      " 13  yr_renovated   21143 non-null  int64  \n",
      " 14  zipcode        21143 non-null  object \n",
      " 15  lat            21143 non-null  float64\n",
      " 16  long           21143 non-null  float64\n",
      " 17  sqft_living15  21143 non-null  int64  \n",
      " 18  sqft_lot15     21143 non-null  int64  \n",
      "dtypes: float64(4), int64(13), object(2)\n",
      "memory usage: 3.2+ MB\n"
     ]
    }
   ],
   "source": [
    "df.info()\n",
    "# all dtypes are as they should be now"
   ]
  },
  {
   "cell_type": "markdown",
   "metadata": {},
   "source": [
    "#### Checking for and removing Multicollinearity"
   ]
  },
  {
   "cell_type": "code",
   "execution_count": 17,
   "metadata": {},
   "outputs": [
    {
     "data": {
      "image/png": "[encoded data removed]",
      "text/plain": [
       "<Figure size 432x288 with 2 Axes>"
      ]
     },
     "metadata": {},
     "output_type": "display_data"
    }
   ],
   "source": [
    "# overall view of correlation. Looks like we have some values > 0.7\n",
    "sns.heatmap(df.corr(), center=0);"
   ]
  },
  {
   "cell_type": "code",
   "execution_count": 18,
   "metadata": {},
   "outputs": [
    {
     "data": {
      "text/html": [
       "<div>\n",
       "<style scoped>\n",
       "    .dataframe tbody tr th:only-of-type {\n",
       "        vertical-align: middle;\n",
       "    }\n",
       "\n",
       "    .dataframe tbody tr th {\n",
       "        vertical-align: top;\n",
       "    }\n",
       "\n",
       "    .dataframe thead th {\n",
       "        text-align: right;\n",
       "    }\n",
       "</style>\n",
       "<table border=\"1\" class=\"dataframe\">\n",
       "  <thead>\n",
       "    <tr style=\"text-align: right;\">\n",
       "      <th></th>\n",
       "      <th>corr</th>\n",
       "      <th>preds</th>\n",
       "    </tr>\n",
       "  </thead>\n",
       "  <tbody>\n",
       "    <tr>\n",
       "      <th>157</th>\n",
       "      <td>0.876678</td>\n",
       "      <td>sqft_above &amp; sqft_living</td>\n",
       "    </tr>\n",
       "    <tr>\n",
       "      <th>77</th>\n",
       "      <td>0.876678</td>\n",
       "      <td>sqft_living &amp; sqft_above</td>\n",
       "    </tr>\n",
       "    <tr>\n",
       "      <th>140</th>\n",
       "      <td>0.763101</td>\n",
       "      <td>grade &amp; sqft_living</td>\n",
       "    </tr>\n",
       "    <tr>\n",
       "      <th>76</th>\n",
       "      <td>0.763101</td>\n",
       "      <td>sqft_living &amp; grade</td>\n",
       "    </tr>\n",
       "    <tr>\n",
       "      <th>259</th>\n",
       "      <td>0.756389</td>\n",
       "      <td>sqft_living15 &amp; sqft_living</td>\n",
       "    </tr>\n",
       "    <tr>\n",
       "      <th>83</th>\n",
       "      <td>0.756389</td>\n",
       "      <td>sqft_living &amp; sqft_living15</td>\n",
       "    </tr>\n",
       "    <tr>\n",
       "      <th>161</th>\n",
       "      <td>0.756382</td>\n",
       "      <td>sqft_above &amp; grade</td>\n",
       "    </tr>\n",
       "    <tr>\n",
       "      <th>145</th>\n",
       "      <td>0.756382</td>\n",
       "      <td>grade &amp; sqft_above</td>\n",
       "    </tr>\n",
       "    <tr>\n",
       "      <th>71</th>\n",
       "      <td>0.755278</td>\n",
       "      <td>sqft_living &amp; bathrooms</td>\n",
       "    </tr>\n",
       "    <tr>\n",
       "      <th>55</th>\n",
       "      <td>0.755278</td>\n",
       "      <td>bathrooms &amp; sqft_living</td>\n",
       "    </tr>\n",
       "    <tr>\n",
       "      <th>264</th>\n",
       "      <td>0.731016</td>\n",
       "      <td>sqft_living15 &amp; sqft_above</td>\n",
       "    </tr>\n",
       "    <tr>\n",
       "      <th>168</th>\n",
       "      <td>0.731016</td>\n",
       "      <td>sqft_above &amp; sqft_living15</td>\n",
       "    </tr>\n",
       "    <tr>\n",
       "      <th>101</th>\n",
       "      <td>0.720649</td>\n",
       "      <td>sqft_lot &amp; sqft_lot15</td>\n",
       "    </tr>\n",
       "    <tr>\n",
       "      <th>277</th>\n",
       "      <td>0.720649</td>\n",
       "      <td>sqft_lot15 &amp; sqft_lot</td>\n",
       "    </tr>\n",
       "    <tr>\n",
       "      <th>263</th>\n",
       "      <td>0.713574</td>\n",
       "      <td>sqft_living15 &amp; grade</td>\n",
       "    </tr>\n",
       "    <tr>\n",
       "      <th>151</th>\n",
       "      <td>0.713574</td>\n",
       "      <td>grade &amp; sqft_living15</td>\n",
       "    </tr>\n",
       "    <tr>\n",
       "      <th>69</th>\n",
       "      <td>0.702328</td>\n",
       "      <td>sqft_living &amp; price</td>\n",
       "    </tr>\n",
       "    <tr>\n",
       "      <th>21</th>\n",
       "      <td>0.702328</td>\n",
       "      <td>price &amp; sqft_living</td>\n",
       "    </tr>\n",
       "  </tbody>\n",
       "</table>\n",
       "</div>"
      ],
      "text/plain": [
       "         corr                        preds\n",
       "157  0.876678     sqft_above & sqft_living\n",
       "77   0.876678     sqft_living & sqft_above\n",
       "140  0.763101          grade & sqft_living\n",
       "76   0.763101          sqft_living & grade\n",
       "259  0.756389  sqft_living15 & sqft_living\n",
       "83   0.756389  sqft_living & sqft_living15\n",
       "161  0.756382           sqft_above & grade\n",
       "145  0.756382           grade & sqft_above\n",
       "71   0.755278      sqft_living & bathrooms\n",
       "55   0.755278      bathrooms & sqft_living\n",
       "264  0.731016   sqft_living15 & sqft_above\n",
       "168  0.731016   sqft_above & sqft_living15\n",
       "101  0.720649        sqft_lot & sqft_lot15\n",
       "277  0.720649        sqft_lot15 & sqft_lot\n",
       "263  0.713574        sqft_living15 & grade\n",
       "151  0.713574        grade & sqft_living15\n",
       "69   0.702328          sqft_living & price\n",
       "21   0.702328          price & sqft_living"
      ]
     },
     "execution_count": 18,
     "metadata": {},
     "output_type": "execute_result"
    }
   ],
   "source": [
    "# Viewing Correlation Between Each Variable ad Checking which variables have a correlation > 0.70 as this could suggest multicollinearity\n",
    "df_corr = df.corr().abs().stack().reset_index()\n",
    "df_corr['preds'] = df_corr['level_0']+' & '+df_corr['level_1']\n",
    "df_corr = df_corr.drop(['level_0','level_1'],axis = 1).rename(columns={0:'corr'}).sort_values(by='corr',ascending = False)\n",
    "df_corr.loc[(df_corr['corr'] > 0.7) & (df_corr['corr'] != 1)]"
   ]
  },
  {
   "cell_type": "code",
   "execution_count": 19,
   "metadata": {},
   "outputs": [],
   "source": [
    "# KCHA isn't really interested in renovating details, and since this has high multicollinearity let's remove them.\n",
    "df.drop(['sqft_lot15','sqft_living15'],axis=1,inplace=True)"
   ]
  },
  {
   "cell_type": "code",
   "execution_count": 20,
   "metadata": {},
   "outputs": [],
   "source": [
    "## Looks like sqft_living and sqft_above is also highly correlated with other features. Lets drop them.\n",
    "df.drop(['sqft_above','sqft_living'],axis=1,inplace=True)"
   ]
  },
  {
   "cell_type": "markdown",
   "metadata": {},
   "source": [
    "#### Splitting data to Continuous and Categorical variables"
   ]
  },
  {
   "cell_type": "code",
   "execution_count": 21,
   "metadata": {},
   "outputs": [],
   "source": [
    "#SPLITTING INTO CONTINOUS AND DISCRETE VARIABLES to turn categorical into dummy variables.\n",
    "cont = df[['price','id', 'bedrooms', 'bathrooms',\n",
    "       'sqft_lot', 'floors', 'condition', 'grade',\n",
    "       'sqft_basement', 'yr_built', 'yr_renovated', 'lat', 'long']]\n",
    "cat = df[['zipcode']]"
   ]
  },
  {
   "cell_type": "markdown",
   "metadata": {},
   "source": [
    "#### Checking Linearity of Features"
   ]
  },
  {
   "cell_type": "code",
   "execution_count": 85,
   "metadata": {
    "scrolled": true
   },
   "outputs": [
    {
     "data": {
      "image/png": "[encoded data removed]",
      "text/plain": [
       "<Figure size 432x288 with 1 Axes>"
      ]
     },
     "metadata": {},
     "output_type": "display_data"
    },
    {
     "data": {
      "image/png": "[encoded data removed]",
      "text/plain": [
       "<Figure size 432x288 with 1 Axes>"
      ]
     },
     "metadata": {},
     "output_type": "display_data"
    },
    {
     "data": {
      "image/png": "[encoded data removed]",
      "text/plain": [
       "<Figure size 432x288 with 1 Axes>"
      ]
     },
     "metadata": {},
     "output_type": "display_data"
    },
    {
     "data": {
      "image/png": "[encoded data removed]",
      "text/plain": [
       "<Figure size 432x288 with 1 Axes>"
      ]
     },
     "metadata": {},
     "output_type": "display_data"
    },
    {
     "name": "stdout",
     "output_type": "stream",
     "text": [
      "\n",
      "----------- NOTES: ------------\n",
      "Makes sense that ID does not have a relationship with price -- drop ID\n",
      "looks like bedrooms has an outlier -- remove bedrooms > 30 from analysis. \n",
      "sqft_lot does not have a linear relationship with price -- drop sqft_lot\n",
      "sqft_basement seems off, drop and transform to categorical variable (has basement, does not have basement)\n",
      "yr_built is does not have linear relationship with price, drop yr_built\n",
      "yr_renovated does not have linear relationship with price, drop and transform to categorical variable (renovated, not renovated)\n",
      "we can use grade to determine quality rather than condition since it has a better linear relationship with price, and drop condition column\n",
      "lat & long do not have a linear relationship, drop\n",
      "\n"
     ]
    }
   ],
   "source": [
    "## Checking Linearity of Features to Dependent variable\n",
    "for col in cont.drop('price',axis=1).columns:\n",
    "    plt.scatter(cont[col],cont['price'])\n",
    "    plt.xlabel(col)\n",
    "    plt.ylabel('Price')\n",
    "    plt.show()\n",
    "    \n",
    "print('''\n",
    "----------- NOTES: ------------\n",
    "Makes sense that ID does not have a relationship with price -- drop ID\n",
    "looks like bedrooms has an outlier -- remove bedrooms > 30 from analysis. \n",
    "sqft_lot does not have a linear relationship with price -- drop sqft_lot\n",
    "sqft_basement seems off, drop and transform to categorical variable (has basement, does not have basement)\n",
    "yr_built is does not have linear relationship with price, drop yr_built\n",
    "yr_renovated does not have linear relationship with price, drop and transform to categorical variable (renovated, not renovated)\n",
    "we can use grade to determine quality rather than condition since it has a better linear relationship with price, and drop condition column\n",
    "lat & long do not have a linear relationship, drop\n",
    "''')"
   ]
  },
  {
   "cell_type": "code",
   "execution_count": 23,
   "metadata": {},
   "outputs": [],
   "source": [
    "# removing outlier with 33 bedrooms\n",
    "cont = cont.loc[~(cont.bedrooms >= 30)]"
   ]
  },
  {
   "cell_type": "code",
   "execution_count": 24,
   "metadata": {},
   "outputs": [],
   "source": [
    "## creating function to turn values > 0 to 1, and values = 0 to 0.\n",
    "def make_binary(row):\n",
    "    if row > 0:\n",
    "        return 1\n",
    "    if row == 0:\n",
    "        return 0\n",
    "    \n",
    "\n",
    "## modifying sqft_basement and yr_renovated to be binary variables\n",
    "## adding new dummy vars into x_cat\n",
    "cat['has_basement'] = cont['sqft_basement'].apply(make_binary)\n",
    "cat['renovated'] = cont['yr_renovated'].apply(make_binary)\n",
    "cat = cat.loc[cat.renovated.isin([0,1])]"
   ]
  },
  {
   "cell_type": "code",
   "execution_count": 25,
   "metadata": {
    "scrolled": true
   },
   "outputs": [],
   "source": [
    "## dropping vars that do not have a linear relationship\n",
    "cont.drop(['id','sqft_lot','sqft_basement','yr_renovated','yr_built','lat','long','condition'],axis=1,inplace=True)"
   ]
  },
  {
   "cell_type": "markdown",
   "metadata": {},
   "source": [
    "#### Encoding Categorical Variables"
   ]
  },
  {
   "cell_type": "code",
   "execution_count": 26,
   "metadata": {
    "scrolled": false
   },
   "outputs": [
    {
     "name": "stdout",
     "output_type": "stream",
     "text": [
      "zipcode 70\n",
      "has_basement 2\n",
      "renovated 2\n"
     ]
    }
   ],
   "source": [
    "# checking out how many unique values are in each cat value\n",
    "for col in cat.columns:\n",
    "    print(col, len(cat[col].unique()))"
   ]
  },
  {
   "cell_type": "code",
   "execution_count": 27,
   "metadata": {},
   "outputs": [],
   "source": [
    "cat_dummies_list = []\n",
    "for idx, col in enumerate(cat.columns):\n",
    "    cat_dummies_list.append(pd.get_dummies(cat[col], prefix=col, drop_first=True)) # drop to avoid dummy trap, \n",
    "    \n",
    "cat_dummies = pd.concat(cat_dummies_list, axis=1)"
   ]
  },
  {
   "cell_type": "markdown",
   "metadata": {},
   "source": [
    "#### Looking into whether we should normalize data"
   ]
  },
  {
   "cell_type": "code",
   "execution_count": 28,
   "metadata": {},
   "outputs": [
    {
     "data": {
      "text/html": [
       "<div>\n",
       "<style scoped>\n",
       "    .dataframe tbody tr th:only-of-type {\n",
       "        vertical-align: middle;\n",
       "    }\n",
       "\n",
       "    .dataframe tbody tr th {\n",
       "        vertical-align: top;\n",
       "    }\n",
       "\n",
       "    .dataframe thead th {\n",
       "        text-align: right;\n",
       "    }\n",
       "</style>\n",
       "<table border=\"1\" class=\"dataframe\">\n",
       "  <thead>\n",
       "    <tr style=\"text-align: right;\">\n",
       "      <th></th>\n",
       "      <th>bedrooms</th>\n",
       "      <th>bathrooms</th>\n",
       "      <th>floors</th>\n",
       "      <th>grade</th>\n",
       "    </tr>\n",
       "  </thead>\n",
       "  <tbody>\n",
       "    <tr>\n",
       "      <th>count</th>\n",
       "      <td>21142.000000</td>\n",
       "      <td>21142.000000</td>\n",
       "      <td>21142.000000</td>\n",
       "      <td>21142.000000</td>\n",
       "    </tr>\n",
       "    <tr>\n",
       "      <th>mean</th>\n",
       "      <td>3.371157</td>\n",
       "      <td>2.116096</td>\n",
       "      <td>1.493615</td>\n",
       "      <td>7.658310</td>\n",
       "    </tr>\n",
       "    <tr>\n",
       "      <th>std</th>\n",
       "      <td>0.902213</td>\n",
       "      <td>0.768545</td>\n",
       "      <td>0.539252</td>\n",
       "      <td>1.174272</td>\n",
       "    </tr>\n",
       "    <tr>\n",
       "      <th>min</th>\n",
       "      <td>1.000000</td>\n",
       "      <td>0.500000</td>\n",
       "      <td>1.000000</td>\n",
       "      <td>3.000000</td>\n",
       "    </tr>\n",
       "    <tr>\n",
       "      <th>25%</th>\n",
       "      <td>3.000000</td>\n",
       "      <td>1.750000</td>\n",
       "      <td>1.000000</td>\n",
       "      <td>7.000000</td>\n",
       "    </tr>\n",
       "    <tr>\n",
       "      <th>50%</th>\n",
       "      <td>3.000000</td>\n",
       "      <td>2.250000</td>\n",
       "      <td>1.500000</td>\n",
       "      <td>7.000000</td>\n",
       "    </tr>\n",
       "    <tr>\n",
       "      <th>75%</th>\n",
       "      <td>4.000000</td>\n",
       "      <td>2.500000</td>\n",
       "      <td>2.000000</td>\n",
       "      <td>8.000000</td>\n",
       "    </tr>\n",
       "    <tr>\n",
       "      <th>max</th>\n",
       "      <td>11.000000</td>\n",
       "      <td>8.000000</td>\n",
       "      <td>3.500000</td>\n",
       "      <td>13.000000</td>\n",
       "    </tr>\n",
       "  </tbody>\n",
       "</table>\n",
       "</div>"
      ],
      "text/plain": [
       "           bedrooms     bathrooms        floors         grade\n",
       "count  21142.000000  21142.000000  21142.000000  21142.000000\n",
       "mean       3.371157      2.116096      1.493615      7.658310\n",
       "std        0.902213      0.768545      0.539252      1.174272\n",
       "min        1.000000      0.500000      1.000000      3.000000\n",
       "25%        3.000000      1.750000      1.000000      7.000000\n",
       "50%        3.000000      2.250000      1.500000      7.000000\n",
       "75%        4.000000      2.500000      2.000000      8.000000\n",
       "max       11.000000      8.000000      3.500000     13.000000"
      ]
     },
     "execution_count": 28,
     "metadata": {},
     "output_type": "execute_result"
    }
   ],
   "source": [
    "cont.drop('price',axis=1).describe()"
   ]
  },
  {
   "cell_type": "code",
   "execution_count": 29,
   "metadata": {},
   "outputs": [
    {
     "name": "stdout",
     "output_type": "stream",
     "text": [
      "range of values for bedrooms:  10\n",
      "range of values for bathrooms:  7.5\n",
      "range of values for floors:  2.5\n",
      "range of values for grade:  10\n",
      "\n",
      "considering the range for all these features are not too different, we shouldn't need to normalize the data\n"
     ]
    }
   ],
   "source": [
    "for col in cont.drop('price',axis=1).columns:\n",
    "    print('range of values for '+col+\": \",max(cont[col]) - min(cont[col]))\n",
    "print(\"\\nconsidering the range for all these features are not too different, we shouldn't need to normalize the data\")"
   ]
  },
  {
   "cell_type": "markdown",
   "metadata": {},
   "source": [
    "# Modeling"
   ]
  },
  {
   "cell_type": "markdown",
   "metadata": {},
   "source": [
    "#### MODEL 1"
   ]
  },
  {
   "cell_type": "code",
   "execution_count": 30,
   "metadata": {},
   "outputs": [],
   "source": [
    "# Creating inputs for model 1, with Continuous variables only\n",
    "X = cont.drop('price',axis=1)\n",
    "y = cont['price']"
   ]
  },
  {
   "cell_type": "code",
   "execution_count": 31,
   "metadata": {},
   "outputs": [],
   "source": [
    "# creating function to run OLS regression\n",
    "def run_model(X,y):\n",
    "    predictors_int = sm.add_constant(X)\n",
    "    return sm.OLS(y,predictors_int).fit()"
   ]
  },
  {
   "cell_type": "code",
   "execution_count": 32,
   "metadata": {},
   "outputs": [
    {
     "data": {
      "text/html": [
       "<table class=\"simpletable\">\n",
       "<caption>OLS Regression Results</caption>\n",
       "<tr>\n",
       "  <th>Dep. Variable:</th>          <td>price</td>      <th>  R-squared:         </th>  <td>   0.467</td>  \n",
       "</tr>\n",
       "<tr>\n",
       "  <th>Model:</th>                   <td>OLS</td>       <th>  Adj. R-squared:    </th>  <td>   0.467</td>  \n",
       "</tr>\n",
       "<tr>\n",
       "  <th>Method:</th>             <td>Least Squares</td>  <th>  F-statistic:       </th>  <td>   4630.</td>  \n",
       "</tr>\n",
       "<tr>\n",
       "  <th>Date:</th>             <td>Mon, 17 Jan 2022</td> <th>  Prob (F-statistic):</th>   <td>  0.00</td>   \n",
       "</tr>\n",
       "<tr>\n",
       "  <th>Time:</th>                 <td>12:29:31</td>     <th>  Log-Likelihood:    </th> <td>-2.9430e+05</td>\n",
       "</tr>\n",
       "<tr>\n",
       "  <th>No. Observations:</th>      <td> 21142</td>      <th>  AIC:               </th>  <td>5.886e+05</td> \n",
       "</tr>\n",
       "<tr>\n",
       "  <th>Df Residuals:</th>          <td> 21137</td>      <th>  BIC:               </th>  <td>5.887e+05</td> \n",
       "</tr>\n",
       "<tr>\n",
       "  <th>Df Model:</th>              <td>     4</td>      <th>                     </th>      <td> </td>     \n",
       "</tr>\n",
       "<tr>\n",
       "  <th>Covariance Type:</th>      <td>nonrobust</td>    <th>                     </th>      <td> </td>     \n",
       "</tr>\n",
       "</table>\n",
       "<table class=\"simpletable\">\n",
       "<tr>\n",
       "      <td></td>         <th>coef</th>     <th>std err</th>      <th>t</th>      <th>P>|t|</th>  <th>[0.025</th>    <th>0.975]</th>  \n",
       "</tr>\n",
       "<tr>\n",
       "  <th>const</th>     <td>-9.874e+05</td> <td> 1.37e+04</td> <td>  -72.000</td> <td> 0.000</td> <td>-1.01e+06</td> <td>-9.61e+05</td>\n",
       "</tr>\n",
       "<tr>\n",
       "  <th>bedrooms</th>  <td> 1.217e+04</td> <td> 2428.974</td> <td>    5.011</td> <td> 0.000</td> <td> 7410.050</td> <td> 1.69e+04</td>\n",
       "</tr>\n",
       "<tr>\n",
       "  <th>bathrooms</th> <td> 8.057e+04</td> <td> 3728.096</td> <td>   21.611</td> <td> 0.000</td> <td> 7.33e+04</td> <td> 8.79e+04</td>\n",
       "</tr>\n",
       "<tr>\n",
       "  <th>floors</th>    <td>-7.271e+04</td> <td> 4071.543</td> <td>  -17.859</td> <td> 0.000</td> <td>-8.07e+04</td> <td>-6.47e+04</td>\n",
       "</tr>\n",
       "<tr>\n",
       "  <th>grade</th>     <td> 1.861e+05</td> <td> 2153.468</td> <td>   86.405</td> <td> 0.000</td> <td> 1.82e+05</td> <td>  1.9e+05</td>\n",
       "</tr>\n",
       "</table>\n",
       "<table class=\"simpletable\">\n",
       "<tr>\n",
       "  <th>Omnibus:</th>       <td>18852.047</td> <th>  Durbin-Watson:     </th>  <td>   1.972</td>  \n",
       "</tr>\n",
       "<tr>\n",
       "  <th>Prob(Omnibus):</th>  <td> 0.000</td>   <th>  Jarque-Bera (JB):  </th> <td>1731976.726</td>\n",
       "</tr>\n",
       "<tr>\n",
       "  <th>Skew:</th>           <td> 3.904</td>   <th>  Prob(JB):          </th>  <td>    0.00</td>  \n",
       "</tr>\n",
       "<tr>\n",
       "  <th>Kurtosis:</th>       <td>46.648</td>   <th>  Cond. No.          </th>  <td>    67.3</td>  \n",
       "</tr>\n",
       "</table><br/><br/>Notes:<br/>[1] Standard Errors assume that the covariance matrix of the errors is correctly specified."
      ],
      "text/plain": [
       "<class 'statsmodels.iolib.summary.Summary'>\n",
       "\"\"\"\n",
       "                            OLS Regression Results                            \n",
       "==============================================================================\n",
       "Dep. Variable:                  price   R-squared:                       0.467\n",
       "Model:                            OLS   Adj. R-squared:                  0.467\n",
       "Method:                 Least Squares   F-statistic:                     4630.\n",
       "Date:                Mon, 17 Jan 2022   Prob (F-statistic):               0.00\n",
       "Time:                        12:29:31   Log-Likelihood:            -2.9430e+05\n",
       "No. Observations:               21142   AIC:                         5.886e+05\n",
       "Df Residuals:                   21137   BIC:                         5.887e+05\n",
       "Df Model:                           4                                         \n",
       "Covariance Type:            nonrobust                                         \n",
       "==============================================================================\n",
       "                 coef    std err          t      P>|t|      [0.025      0.975]\n",
       "------------------------------------------------------------------------------\n",
       "const      -9.874e+05   1.37e+04    -72.000      0.000   -1.01e+06   -9.61e+05\n",
       "bedrooms    1.217e+04   2428.974      5.011      0.000    7410.050    1.69e+04\n",
       "bathrooms   8.057e+04   3728.096     21.611      0.000    7.33e+04    8.79e+04\n",
       "floors     -7.271e+04   4071.543    -17.859      0.000   -8.07e+04   -6.47e+04\n",
       "grade       1.861e+05   2153.468     86.405      0.000    1.82e+05     1.9e+05\n",
       "==============================================================================\n",
       "Omnibus:                    18852.047   Durbin-Watson:                   1.972\n",
       "Prob(Omnibus):                  0.000   Jarque-Bera (JB):          1731976.726\n",
       "Skew:                           3.904   Prob(JB):                         0.00\n",
       "Kurtosis:                      46.648   Cond. No.                         67.3\n",
       "==============================================================================\n",
       "\n",
       "Notes:\n",
       "[1] Standard Errors assume that the covariance matrix of the errors is correctly specified.\n",
       "\"\"\""
      ]
     },
     "execution_count": 32,
     "metadata": {},
     "output_type": "execute_result"
    }
   ],
   "source": [
    "# running model\n",
    "model_1 = run_model(X,y)\n",
    "model_1.summary()"
   ]
  },
  {
   "cell_type": "code",
   "execution_count": 33,
   "metadata": {},
   "outputs": [
    {
     "data": {
      "image/png": "[encoded data removed]",
      "text/plain": [
       "<Figure size 432x288 with 1 Axes>"
      ]
     },
     "metadata": {},
     "output_type": "display_data"
    },
    {
     "data": {
      "image/png": "[encoded data removed]",
      "text/plain": [
       "<Figure size 432x288 with 1 Axes>"
      ]
     },
     "metadata": {},
     "output_type": "display_data"
    },
    {
     "name": "stdout",
     "output_type": "stream",
     "text": [
      "residuals for this model do not follow that of a normal distribution, and error terms for this model are heteroscedastic. We may want to log transform variables\n"
     ]
    }
   ],
   "source": [
    "# Checking for normality of residuals and homoscedasticity\n",
    "\n",
    "# running QQ Plot\n",
    "stats.probplot(model_1.resid, dist=\"norm\", plot= plt)\n",
    "plt.title(\"Model Residuals Q-Q Plot\")\n",
    "plt.show()\n",
    "\n",
    "# running fitted values vs. residuals\n",
    "plt.scatter(model_1.fittedvalues,model_1.resid)\n",
    "plt.title(\"Model Fitted Values Vs. Residuals\")\n",
    "plt.show()\n",
    "\n",
    "print(\"residuals for this model do not follow that of a normal distribution, and error terms for this model are heteroscedastic. We may want to log transform variables\")"
   ]
  },
  {
   "cell_type": "markdown",
   "metadata": {},
   "source": [
    "#### Model 2 - Transforming Y & dropping Floors"
   ]
  },
  {
   "cell_type": "code",
   "execution_count": 34,
   "metadata": {},
   "outputs": [
    {
     "data": {
      "text/html": [
       "<table class=\"simpletable\">\n",
       "<caption>OLS Regression Results</caption>\n",
       "<tr>\n",
       "  <th>Dep. Variable:</th>          <td>price</td>      <th>  R-squared:         </th> <td>   0.511</td> \n",
       "</tr>\n",
       "<tr>\n",
       "  <th>Model:</th>                   <td>OLS</td>       <th>  Adj. R-squared:    </th> <td>   0.511</td> \n",
       "</tr>\n",
       "<tr>\n",
       "  <th>Method:</th>             <td>Least Squares</td>  <th>  F-statistic:       </th> <td>   7355.</td> \n",
       "</tr>\n",
       "<tr>\n",
       "  <th>Date:</th>             <td>Mon, 17 Jan 2022</td> <th>  Prob (F-statistic):</th>  <td>  0.00</td>  \n",
       "</tr>\n",
       "<tr>\n",
       "  <th>Time:</th>                 <td>12:29:31</td>     <th>  Log-Likelihood:    </th> <td> -8886.3</td> \n",
       "</tr>\n",
       "<tr>\n",
       "  <th>No. Observations:</th>      <td> 21142</td>      <th>  AIC:               </th> <td>1.778e+04</td>\n",
       "</tr>\n",
       "<tr>\n",
       "  <th>Df Residuals:</th>          <td> 21138</td>      <th>  BIC:               </th> <td>1.781e+04</td>\n",
       "</tr>\n",
       "<tr>\n",
       "  <th>Df Model:</th>              <td>     3</td>      <th>                     </th>     <td> </td>    \n",
       "</tr>\n",
       "<tr>\n",
       "  <th>Covariance Type:</th>      <td>nonrobust</td>    <th>                     </th>     <td> </td>    \n",
       "</tr>\n",
       "</table>\n",
       "<table class=\"simpletable\">\n",
       "<tr>\n",
       "      <td></td>         <th>coef</th>     <th>std err</th>      <th>t</th>      <th>P>|t|</th>  <th>[0.025</th>    <th>0.975]</th>  \n",
       "</tr>\n",
       "<tr>\n",
       "  <th>const</th>     <td>   10.6759</td> <td>    0.019</td> <td>  570.480</td> <td> 0.000</td> <td>   10.639</td> <td>   10.713</td>\n",
       "</tr>\n",
       "<tr>\n",
       "  <th>bedrooms</th>  <td>    0.0412</td> <td>    0.003</td> <td>   12.455</td> <td> 0.000</td> <td>    0.035</td> <td>    0.048</td>\n",
       "</tr>\n",
       "<tr>\n",
       "  <th>bathrooms</th> <td>    0.0767</td> <td>    0.005</td> <td>   15.843</td> <td> 0.000</td> <td>    0.067</td> <td>    0.086</td>\n",
       "</tr>\n",
       "<tr>\n",
       "  <th>grade</th>     <td>    0.2705</td> <td>    0.003</td> <td>   93.414</td> <td> 0.000</td> <td>    0.265</td> <td>    0.276</td>\n",
       "</tr>\n",
       "</table>\n",
       "<table class=\"simpletable\">\n",
       "<tr>\n",
       "  <th>Omnibus:</th>       <td>134.197</td> <th>  Durbin-Watson:     </th> <td>   1.961</td>\n",
       "</tr>\n",
       "<tr>\n",
       "  <th>Prob(Omnibus):</th> <td> 0.000</td>  <th>  Jarque-Bera (JB):  </th> <td> 136.612</td>\n",
       "</tr>\n",
       "<tr>\n",
       "  <th>Skew:</th>          <td> 0.196</td>  <th>  Prob(JB):          </th> <td>2.16e-30</td>\n",
       "</tr>\n",
       "<tr>\n",
       "  <th>Kurtosis:</th>      <td> 3.043</td>  <th>  Cond. No.          </th> <td>    66.0</td>\n",
       "</tr>\n",
       "</table><br/><br/>Notes:<br/>[1] Standard Errors assume that the covariance matrix of the errors is correctly specified."
      ],
      "text/plain": [
       "<class 'statsmodels.iolib.summary.Summary'>\n",
       "\"\"\"\n",
       "                            OLS Regression Results                            \n",
       "==============================================================================\n",
       "Dep. Variable:                  price   R-squared:                       0.511\n",
       "Model:                            OLS   Adj. R-squared:                  0.511\n",
       "Method:                 Least Squares   F-statistic:                     7355.\n",
       "Date:                Mon, 17 Jan 2022   Prob (F-statistic):               0.00\n",
       "Time:                        12:29:31   Log-Likelihood:                -8886.3\n",
       "No. Observations:               21142   AIC:                         1.778e+04\n",
       "Df Residuals:                   21138   BIC:                         1.781e+04\n",
       "Df Model:                           3                                         \n",
       "Covariance Type:            nonrobust                                         \n",
       "==============================================================================\n",
       "                 coef    std err          t      P>|t|      [0.025      0.975]\n",
       "------------------------------------------------------------------------------\n",
       "const         10.6759      0.019    570.480      0.000      10.639      10.713\n",
       "bedrooms       0.0412      0.003     12.455      0.000       0.035       0.048\n",
       "bathrooms      0.0767      0.005     15.843      0.000       0.067       0.086\n",
       "grade          0.2705      0.003     93.414      0.000       0.265       0.276\n",
       "==============================================================================\n",
       "Omnibus:                      134.197   Durbin-Watson:                   1.961\n",
       "Prob(Omnibus):                  0.000   Jarque-Bera (JB):              136.612\n",
       "Skew:                           0.196   Prob(JB):                     2.16e-30\n",
       "Kurtosis:                       3.043   Cond. No.                         66.0\n",
       "==============================================================================\n",
       "\n",
       "Notes:\n",
       "[1] Standard Errors assume that the covariance matrix of the errors is correctly specified.\n",
       "\"\"\""
      ]
     },
     "execution_count": 34,
     "metadata": {},
     "output_type": "execute_result"
    }
   ],
   "source": [
    "\n",
    "# Log transforming Y variable\n",
    "y_log = np.log(y)\n",
    "\n",
    "# Floors having a negative coefficient doesn't seem to make sense. Let's drop\n",
    "X = X.drop('floors', axis = 1)\n",
    "\n",
    "# running model 2 with log transform\n",
    "model_2 = run_model(X,y_log)\n",
    "model_2.summary() "
   ]
  },
  {
   "cell_type": "code",
   "execution_count": 35,
   "metadata": {},
   "outputs": [],
   "source": [
    "# Model 2 has an improved adj. R-squared. Let's check the residuals again."
   ]
  },
  {
   "cell_type": "code",
   "execution_count": 36,
   "metadata": {},
   "outputs": [
    {
     "data": {
      "image/png": "[encoded data removed]",
      "text/plain": [
       "<Figure size 432x288 with 1 Axes>"
      ]
     },
     "metadata": {},
     "output_type": "display_data"
    },
    {
     "data": {
      "image/png": "[encoded data removed]",
      "text/plain": [
       "<Figure size 432x288 with 1 Axes>"
      ]
     },
     "metadata": {},
     "output_type": "display_data"
    }
   ],
   "source": [
    "stats.probplot(model_2.resid, dist=\"norm\", plot= plt)\n",
    "plt.title(\"Model Residuals Q-Q Plot for Log Transform\")\n",
    "plt.show()\n",
    "plt.scatter(model_2.fittedvalues,model_2.resid)\n",
    "plt.title(\"Model Residuals Vs. Fitted Values for Log Transform\")\n",
    "plt.show()"
   ]
  },
  {
   "cell_type": "code",
   "execution_count": 37,
   "metadata": {},
   "outputs": [],
   "source": [
    "# These plots look much better, errors are homoscedasctic and follow a normal distribution"
   ]
  },
  {
   "cell_type": "markdown",
   "metadata": {},
   "source": [
    "#### Model 3 - Adding Categorical Variables"
   ]
  },
  {
   "cell_type": "code",
   "execution_count": 38,
   "metadata": {
    "scrolled": false
   },
   "outputs": [
    {
     "data": {
      "text/html": [
       "<table class=\"simpletable\">\n",
       "<caption>OLS Regression Results</caption>\n",
       "<tr>\n",
       "  <th>Dep. Variable:</th>          <td>price</td>      <th>  R-squared:         </th> <td>   0.802</td>\n",
       "</tr>\n",
       "<tr>\n",
       "  <th>Model:</th>                   <td>OLS</td>       <th>  Adj. R-squared:    </th> <td>   0.802</td>\n",
       "</tr>\n",
       "<tr>\n",
       "  <th>Method:</th>             <td>Least Squares</td>  <th>  F-statistic:       </th> <td>   1156.</td>\n",
       "</tr>\n",
       "<tr>\n",
       "  <th>Date:</th>             <td>Mon, 17 Jan 2022</td> <th>  Prob (F-statistic):</th>  <td>  0.00</td> \n",
       "</tr>\n",
       "<tr>\n",
       "  <th>Time:</th>                 <td>12:29:32</td>     <th>  Log-Likelihood:    </th> <td>  696.23</td>\n",
       "</tr>\n",
       "<tr>\n",
       "  <th>No. Observations:</th>      <td> 21142</td>      <th>  AIC:               </th> <td>  -1242.</td>\n",
       "</tr>\n",
       "<tr>\n",
       "  <th>Df Residuals:</th>          <td> 21067</td>      <th>  BIC:               </th> <td>  -645.5</td>\n",
       "</tr>\n",
       "<tr>\n",
       "  <th>Df Model:</th>              <td>    74</td>      <th>                     </th>     <td> </td>   \n",
       "</tr>\n",
       "<tr>\n",
       "  <th>Covariance Type:</th>      <td>nonrobust</td>    <th>                     </th>     <td> </td>   \n",
       "</tr>\n",
       "</table>\n",
       "<table class=\"simpletable\">\n",
       "<tr>\n",
       "          <td></td>            <th>coef</th>     <th>std err</th>      <th>t</th>      <th>P>|t|</th>  <th>[0.025</th>    <th>0.975]</th>  \n",
       "</tr>\n",
       "<tr>\n",
       "  <th>const</th>            <td>   10.6811</td> <td>    0.018</td> <td>  598.803</td> <td> 0.000</td> <td>   10.646</td> <td>   10.716</td>\n",
       "</tr>\n",
       "<tr>\n",
       "  <th>bedrooms</th>         <td>    0.0536</td> <td>    0.002</td> <td>   24.734</td> <td> 0.000</td> <td>    0.049</td> <td>    0.058</td>\n",
       "</tr>\n",
       "<tr>\n",
       "  <th>bathrooms</th>        <td>    0.0887</td> <td>    0.003</td> <td>   27.743</td> <td> 0.000</td> <td>    0.082</td> <td>    0.095</td>\n",
       "</tr>\n",
       "<tr>\n",
       "  <th>grade</th>            <td>    0.1970</td> <td>    0.002</td> <td>   98.302</td> <td> 0.000</td> <td>    0.193</td> <td>    0.201</td>\n",
       "</tr>\n",
       "<tr>\n",
       "  <th>zipcode_98002</th>    <td>   -0.0147</td> <td>    0.021</td> <td>   -0.705</td> <td> 0.481</td> <td>   -0.056</td> <td>    0.026</td>\n",
       "</tr>\n",
       "<tr>\n",
       "  <th>zipcode_98003</th>    <td>   -0.0077</td> <td>    0.019</td> <td>   -0.408</td> <td> 0.683</td> <td>   -0.045</td> <td>    0.029</td>\n",
       "</tr>\n",
       "<tr>\n",
       "  <th>zipcode_98004</th>    <td>    1.1491</td> <td>    0.018</td> <td>   62.664</td> <td> 0.000</td> <td>    1.113</td> <td>    1.185</td>\n",
       "</tr>\n",
       "<tr>\n",
       "  <th>zipcode_98005</th>    <td>    0.7563</td> <td>    0.022</td> <td>   34.175</td> <td> 0.000</td> <td>    0.713</td> <td>    0.800</td>\n",
       "</tr>\n",
       "<tr>\n",
       "  <th>zipcode_98006</th>    <td>    0.6818</td> <td>    0.017</td> <td>   41.139</td> <td> 0.000</td> <td>    0.649</td> <td>    0.714</td>\n",
       "</tr>\n",
       "<tr>\n",
       "  <th>zipcode_98007</th>    <td>    0.6187</td> <td>    0.024</td> <td>   26.300</td> <td> 0.000</td> <td>    0.573</td> <td>    0.665</td>\n",
       "</tr>\n",
       "<tr>\n",
       "  <th>zipcode_98008</th>    <td>    0.6744</td> <td>    0.019</td> <td>   35.822</td> <td> 0.000</td> <td>    0.637</td> <td>    0.711</td>\n",
       "</tr>\n",
       "<tr>\n",
       "  <th>zipcode_98010</th>    <td>    0.3357</td> <td>    0.027</td> <td>   12.529</td> <td> 0.000</td> <td>    0.283</td> <td>    0.388</td>\n",
       "</tr>\n",
       "<tr>\n",
       "  <th>zipcode_98011</th>    <td>    0.4441</td> <td>    0.021</td> <td>   21.098</td> <td> 0.000</td> <td>    0.403</td> <td>    0.485</td>\n",
       "</tr>\n",
       "<tr>\n",
       "  <th>zipcode_98014</th>    <td>    0.4136</td> <td>    0.025</td> <td>   16.777</td> <td> 0.000</td> <td>    0.365</td> <td>    0.462</td>\n",
       "</tr>\n",
       "<tr>\n",
       "  <th>zipcode_98019</th>    <td>    0.3589</td> <td>    0.021</td> <td>   16.933</td> <td> 0.000</td> <td>    0.317</td> <td>    0.400</td>\n",
       "</tr>\n",
       "<tr>\n",
       "  <th>zipcode_98022</th>    <td>    0.1555</td> <td>    0.020</td> <td>    7.797</td> <td> 0.000</td> <td>    0.116</td> <td>    0.195</td>\n",
       "</tr>\n",
       "<tr>\n",
       "  <th>zipcode_98023</th>    <td>   -0.0572</td> <td>    0.016</td> <td>   -3.486</td> <td> 0.000</td> <td>   -0.089</td> <td>   -0.025</td>\n",
       "</tr>\n",
       "<tr>\n",
       "  <th>zipcode_98024</th>    <td>    0.5497</td> <td>    0.029</td> <td>   18.824</td> <td> 0.000</td> <td>    0.492</td> <td>    0.607</td>\n",
       "</tr>\n",
       "<tr>\n",
       "  <th>zipcode_98027</th>    <td>    0.5194</td> <td>    0.017</td> <td>   30.156</td> <td> 0.000</td> <td>    0.486</td> <td>    0.553</td>\n",
       "</tr>\n",
       "<tr>\n",
       "  <th>zipcode_98028</th>    <td>    0.4177</td> <td>    0.019</td> <td>   22.149</td> <td> 0.000</td> <td>    0.381</td> <td>    0.455</td>\n",
       "</tr>\n",
       "<tr>\n",
       "  <th>zipcode_98029</th>    <td>    0.5238</td> <td>    0.018</td> <td>   28.513</td> <td> 0.000</td> <td>    0.488</td> <td>    0.560</td>\n",
       "</tr>\n",
       "<tr>\n",
       "  <th>zipcode_98030</th>    <td>    0.0306</td> <td>    0.019</td> <td>    1.580</td> <td> 0.114</td> <td>   -0.007</td> <td>    0.069</td>\n",
       "</tr>\n",
       "<tr>\n",
       "  <th>zipcode_98031</th>    <td>    0.0553</td> <td>    0.019</td> <td>    2.901</td> <td> 0.004</td> <td>    0.018</td> <td>    0.093</td>\n",
       "</tr>\n",
       "<tr>\n",
       "  <th>zipcode_98032</th>    <td>   -0.0461</td> <td>    0.025</td> <td>   -1.876</td> <td> 0.061</td> <td>   -0.094</td> <td>    0.002</td>\n",
       "</tr>\n",
       "<tr>\n",
       "  <th>zipcode_98033</th>    <td>    0.7885</td> <td>    0.017</td> <td>   46.545</td> <td> 0.000</td> <td>    0.755</td> <td>    0.822</td>\n",
       "</tr>\n",
       "<tr>\n",
       "  <th>zipcode_98034</th>    <td>    0.5180</td> <td>    0.016</td> <td>   32.187</td> <td> 0.000</td> <td>    0.486</td> <td>    0.550</td>\n",
       "</tr>\n",
       "<tr>\n",
       "  <th>zipcode_98038</th>    <td>    0.1796</td> <td>    0.016</td> <td>   11.295</td> <td> 0.000</td> <td>    0.148</td> <td>    0.211</td>\n",
       "</tr>\n",
       "<tr>\n",
       "  <th>zipcode_98039</th>    <td>    1.3561</td> <td>    0.036</td> <td>   37.709</td> <td> 0.000</td> <td>    1.286</td> <td>    1.427</td>\n",
       "</tr>\n",
       "<tr>\n",
       "  <th>zipcode_98040</th>    <td>    0.9566</td> <td>    0.019</td> <td>   50.217</td> <td> 0.000</td> <td>    0.919</td> <td>    0.994</td>\n",
       "</tr>\n",
       "<tr>\n",
       "  <th>zipcode_98042</th>    <td>    0.0711</td> <td>    0.016</td> <td>    4.434</td> <td> 0.000</td> <td>    0.040</td> <td>    0.103</td>\n",
       "</tr>\n",
       "<tr>\n",
       "  <th>zipcode_98045</th>    <td>    0.3552</td> <td>    0.020</td> <td>   17.492</td> <td> 0.000</td> <td>    0.315</td> <td>    0.395</td>\n",
       "</tr>\n",
       "<tr>\n",
       "  <th>zipcode_98052</th>    <td>    0.6166</td> <td>    0.016</td> <td>   38.552</td> <td> 0.000</td> <td>    0.585</td> <td>    0.648</td>\n",
       "</tr>\n",
       "<tr>\n",
       "  <th>zipcode_98053</th>    <td>    0.6487</td> <td>    0.017</td> <td>   37.570</td> <td> 0.000</td> <td>    0.615</td> <td>    0.682</td>\n",
       "</tr>\n",
       "<tr>\n",
       "  <th>zipcode_98055</th>    <td>    0.1266</td> <td>    0.019</td> <td>    6.610</td> <td> 0.000</td> <td>    0.089</td> <td>    0.164</td>\n",
       "</tr>\n",
       "<tr>\n",
       "  <th>zipcode_98056</th>    <td>    0.3452</td> <td>    0.017</td> <td>   20.165</td> <td> 0.000</td> <td>    0.312</td> <td>    0.379</td>\n",
       "</tr>\n",
       "<tr>\n",
       "  <th>zipcode_98058</th>    <td>    0.1550</td> <td>    0.017</td> <td>    9.252</td> <td> 0.000</td> <td>    0.122</td> <td>    0.188</td>\n",
       "</tr>\n",
       "<tr>\n",
       "  <th>zipcode_98059</th>    <td>    0.3693</td> <td>    0.017</td> <td>   22.188</td> <td> 0.000</td> <td>    0.337</td> <td>    0.402</td>\n",
       "</tr>\n",
       "<tr>\n",
       "  <th>zipcode_98065</th>    <td>    0.4716</td> <td>    0.018</td> <td>   25.575</td> <td> 0.000</td> <td>    0.435</td> <td>    0.508</td>\n",
       "</tr>\n",
       "<tr>\n",
       "  <th>zipcode_98070</th>    <td>    0.5702</td> <td>    0.025</td> <td>   22.682</td> <td> 0.000</td> <td>    0.521</td> <td>    0.619</td>\n",
       "</tr>\n",
       "<tr>\n",
       "  <th>zipcode_98072</th>    <td>    0.5155</td> <td>    0.019</td> <td>   27.032</td> <td> 0.000</td> <td>    0.478</td> <td>    0.553</td>\n",
       "</tr>\n",
       "<tr>\n",
       "  <th>zipcode_98074</th>    <td>    0.5543</td> <td>    0.017</td> <td>   32.666</td> <td> 0.000</td> <td>    0.521</td> <td>    0.588</td>\n",
       "</tr>\n",
       "<tr>\n",
       "  <th>zipcode_98075</th>    <td>    0.6193</td> <td>    0.018</td> <td>   34.564</td> <td> 0.000</td> <td>    0.584</td> <td>    0.654</td>\n",
       "</tr>\n",
       "<tr>\n",
       "  <th>zipcode_98077</th>    <td>    0.5254</td> <td>    0.021</td> <td>   24.985</td> <td> 0.000</td> <td>    0.484</td> <td>    0.567</td>\n",
       "</tr>\n",
       "<tr>\n",
       "  <th>zipcode_98092</th>    <td>    0.0386</td> <td>    0.018</td> <td>    2.167</td> <td> 0.030</td> <td>    0.004</td> <td>    0.074</td>\n",
       "</tr>\n",
       "<tr>\n",
       "  <th>zipcode_98102</th>    <td>    0.8238</td> <td>    0.027</td> <td>   30.875</td> <td> 0.000</td> <td>    0.772</td> <td>    0.876</td>\n",
       "</tr>\n",
       "<tr>\n",
       "  <th>zipcode_98103</th>    <td>    0.7212</td> <td>    0.016</td> <td>   45.529</td> <td> 0.000</td> <td>    0.690</td> <td>    0.752</td>\n",
       "</tr>\n",
       "<tr>\n",
       "  <th>zipcode_98105</th>    <td>    0.9063</td> <td>    0.020</td> <td>   45.161</td> <td> 0.000</td> <td>    0.867</td> <td>    0.946</td>\n",
       "</tr>\n",
       "<tr>\n",
       "  <th>zipcode_98106</th>    <td>    0.2333</td> <td>    0.018</td> <td>   12.940</td> <td> 0.000</td> <td>    0.198</td> <td>    0.269</td>\n",
       "</tr>\n",
       "<tr>\n",
       "  <th>zipcode_98107</th>    <td>    0.7074</td> <td>    0.019</td> <td>   36.890</td> <td> 0.000</td> <td>    0.670</td> <td>    0.745</td>\n",
       "</tr>\n",
       "<tr>\n",
       "  <th>zipcode_98108</th>    <td>    0.2940</td> <td>    0.021</td> <td>   13.732</td> <td> 0.000</td> <td>    0.252</td> <td>    0.336</td>\n",
       "</tr>\n",
       "<tr>\n",
       "  <th>zipcode_98109</th>    <td>    0.9185</td> <td>    0.026</td> <td>   35.117</td> <td> 0.000</td> <td>    0.867</td> <td>    0.970</td>\n",
       "</tr>\n",
       "<tr>\n",
       "  <th>zipcode_98112</th>    <td>    0.9901</td> <td>    0.019</td> <td>   51.275</td> <td> 0.000</td> <td>    0.952</td> <td>    1.028</td>\n",
       "</tr>\n",
       "<tr>\n",
       "  <th>zipcode_98115</th>    <td>    0.7680</td> <td>    0.016</td> <td>   48.035</td> <td> 0.000</td> <td>    0.737</td> <td>    0.799</td>\n",
       "</tr>\n",
       "<tr>\n",
       "  <th>zipcode_98116</th>    <td>    0.7102</td> <td>    0.018</td> <td>   38.994</td> <td> 0.000</td> <td>    0.675</td> <td>    0.746</td>\n",
       "</tr>\n",
       "<tr>\n",
       "  <th>zipcode_98117</th>    <td>    0.7414</td> <td>    0.016</td> <td>   45.967</td> <td> 0.000</td> <td>    0.710</td> <td>    0.773</td>\n",
       "</tr>\n",
       "<tr>\n",
       "  <th>zipcode_98118</th>    <td>    0.4275</td> <td>    0.016</td> <td>   26.114</td> <td> 0.000</td> <td>    0.395</td> <td>    0.460</td>\n",
       "</tr>\n",
       "<tr>\n",
       "  <th>zipcode_98119</th>    <td>    0.8883</td> <td>    0.022</td> <td>   40.830</td> <td> 0.000</td> <td>    0.846</td> <td>    0.931</td>\n",
       "</tr>\n",
       "<tr>\n",
       "  <th>zipcode_98122</th>    <td>    0.6825</td> <td>    0.019</td> <td>   36.307</td> <td> 0.000</td> <td>    0.646</td> <td>    0.719</td>\n",
       "</tr>\n",
       "<tr>\n",
       "  <th>zipcode_98125</th>    <td>    0.5358</td> <td>    0.017</td> <td>   31.278</td> <td> 0.000</td> <td>    0.502</td> <td>    0.569</td>\n",
       "</tr>\n",
       "<tr>\n",
       "  <th>zipcode_98126</th>    <td>    0.4924</td> <td>    0.018</td> <td>   27.568</td> <td> 0.000</td> <td>    0.457</td> <td>    0.527</td>\n",
       "</tr>\n",
       "<tr>\n",
       "  <th>zipcode_98133</th>    <td>    0.4026</td> <td>    0.016</td> <td>   24.475</td> <td> 0.000</td> <td>    0.370</td> <td>    0.435</td>\n",
       "</tr>\n",
       "<tr>\n",
       "  <th>zipcode_98136</th>    <td>    0.6389</td> <td>    0.019</td> <td>   32.934</td> <td> 0.000</td> <td>    0.601</td> <td>    0.677</td>\n",
       "</tr>\n",
       "<tr>\n",
       "  <th>zipcode_98144</th>    <td>    0.6120</td> <td>    0.018</td> <td>   34.088</td> <td> 0.000</td> <td>    0.577</td> <td>    0.647</td>\n",
       "</tr>\n",
       "<tr>\n",
       "  <th>zipcode_98146</th>    <td>    0.2901</td> <td>    0.019</td> <td>   15.390</td> <td> 0.000</td> <td>    0.253</td> <td>    0.327</td>\n",
       "</tr>\n",
       "<tr>\n",
       "  <th>zipcode_98148</th>    <td>    0.1207</td> <td>    0.034</td> <td>    3.548</td> <td> 0.000</td> <td>    0.054</td> <td>    0.187</td>\n",
       "</tr>\n",
       "<tr>\n",
       "  <th>zipcode_98155</th>    <td>    0.4194</td> <td>    0.017</td> <td>   24.939</td> <td> 0.000</td> <td>    0.386</td> <td>    0.452</td>\n",
       "</tr>\n",
       "<tr>\n",
       "  <th>zipcode_98166</th>    <td>    0.3883</td> <td>    0.019</td> <td>   19.963</td> <td> 0.000</td> <td>    0.350</td> <td>    0.426</td>\n",
       "</tr>\n",
       "<tr>\n",
       "  <th>zipcode_98168</th>    <td>    0.0724</td> <td>    0.019</td> <td>    3.775</td> <td> 0.000</td> <td>    0.035</td> <td>    0.110</td>\n",
       "</tr>\n",
       "<tr>\n",
       "  <th>zipcode_98177</th>    <td>    0.6355</td> <td>    0.019</td> <td>   32.704</td> <td> 0.000</td> <td>    0.597</td> <td>    0.674</td>\n",
       "</tr>\n",
       "<tr>\n",
       "  <th>zipcode_98178</th>    <td>    0.1710</td> <td>    0.019</td> <td>    8.883</td> <td> 0.000</td> <td>    0.133</td> <td>    0.209</td>\n",
       "</tr>\n",
       "<tr>\n",
       "  <th>zipcode_98188</th>    <td>    0.0832</td> <td>    0.024</td> <td>    3.466</td> <td> 0.001</td> <td>    0.036</td> <td>    0.130</td>\n",
       "</tr>\n",
       "<tr>\n",
       "  <th>zipcode_98198</th>    <td>    0.1003</td> <td>    0.019</td> <td>    5.296</td> <td> 0.000</td> <td>    0.063</td> <td>    0.137</td>\n",
       "</tr>\n",
       "<tr>\n",
       "  <th>zipcode_98199</th>    <td>    0.8107</td> <td>    0.018</td> <td>   44.117</td> <td> 0.000</td> <td>    0.775</td> <td>    0.847</td>\n",
       "</tr>\n",
       "<tr>\n",
       "  <th>has_basement_1.0</th> <td>    0.0560</td> <td>    0.004</td> <td>   15.352</td> <td> 0.000</td> <td>    0.049</td> <td>    0.063</td>\n",
       "</tr>\n",
       "<tr>\n",
       "  <th>renovated_1.0</th>    <td>    0.1248</td> <td>    0.009</td> <td>   13.881</td> <td> 0.000</td> <td>    0.107</td> <td>    0.142</td>\n",
       "</tr>\n",
       "</table>\n",
       "<table class=\"simpletable\">\n",
       "<tr>\n",
       "  <th>Omnibus:</th>       <td>1566.228</td> <th>  Durbin-Watson:     </th> <td>   1.982</td>\n",
       "</tr>\n",
       "<tr>\n",
       "  <th>Prob(Omnibus):</th>  <td> 0.000</td>  <th>  Jarque-Bera (JB):  </th> <td>5951.583</td>\n",
       "</tr>\n",
       "<tr>\n",
       "  <th>Skew:</th>           <td> 0.301</td>  <th>  Prob(JB):          </th> <td>    0.00</td>\n",
       "</tr>\n",
       "<tr>\n",
       "  <th>Kurtosis:</th>       <td> 5.529</td>  <th>  Cond. No.          </th> <td>    578.</td>\n",
       "</tr>\n",
       "</table><br/><br/>Notes:<br/>[1] Standard Errors assume that the covariance matrix of the errors is correctly specified."
      ],
      "text/plain": [
       "<class 'statsmodels.iolib.summary.Summary'>\n",
       "\"\"\"\n",
       "                            OLS Regression Results                            \n",
       "==============================================================================\n",
       "Dep. Variable:                  price   R-squared:                       0.802\n",
       "Model:                            OLS   Adj. R-squared:                  0.802\n",
       "Method:                 Least Squares   F-statistic:                     1156.\n",
       "Date:                Mon, 17 Jan 2022   Prob (F-statistic):               0.00\n",
       "Time:                        12:29:32   Log-Likelihood:                 696.23\n",
       "No. Observations:               21142   AIC:                            -1242.\n",
       "Df Residuals:                   21067   BIC:                            -645.5\n",
       "Df Model:                          74                                         \n",
       "Covariance Type:            nonrobust                                         \n",
       "====================================================================================\n",
       "                       coef    std err          t      P>|t|      [0.025      0.975]\n",
       "------------------------------------------------------------------------------------\n",
       "const               10.6811      0.018    598.803      0.000      10.646      10.716\n",
       "bedrooms             0.0536      0.002     24.734      0.000       0.049       0.058\n",
       "bathrooms            0.0887      0.003     27.743      0.000       0.082       0.095\n",
       "grade                0.1970      0.002     98.302      0.000       0.193       0.201\n",
       "zipcode_98002       -0.0147      0.021     -0.705      0.481      -0.056       0.026\n",
       "zipcode_98003       -0.0077      0.019     -0.408      0.683      -0.045       0.029\n",
       "zipcode_98004        1.1491      0.018     62.664      0.000       1.113       1.185\n",
       "zipcode_98005        0.7563      0.022     34.175      0.000       0.713       0.800\n",
       "zipcode_98006        0.6818      0.017     41.139      0.000       0.649       0.714\n",
       "zipcode_98007        0.6187      0.024     26.300      0.000       0.573       0.665\n",
       "zipcode_98008        0.6744      0.019     35.822      0.000       0.637       0.711\n",
       "zipcode_98010        0.3357      0.027     12.529      0.000       0.283       0.388\n",
       "zipcode_98011        0.4441      0.021     21.098      0.000       0.403       0.485\n",
       "zipcode_98014        0.4136      0.025     16.777      0.000       0.365       0.462\n",
       "zipcode_98019        0.3589      0.021     16.933      0.000       0.317       0.400\n",
       "zipcode_98022        0.1555      0.020      7.797      0.000       0.116       0.195\n",
       "zipcode_98023       -0.0572      0.016     -3.486      0.000      -0.089      -0.025\n",
       "zipcode_98024        0.5497      0.029     18.824      0.000       0.492       0.607\n",
       "zipcode_98027        0.5194      0.017     30.156      0.000       0.486       0.553\n",
       "zipcode_98028        0.4177      0.019     22.149      0.000       0.381       0.455\n",
       "zipcode_98029        0.5238      0.018     28.513      0.000       0.488       0.560\n",
       "zipcode_98030        0.0306      0.019      1.580      0.114      -0.007       0.069\n",
       "zipcode_98031        0.0553      0.019      2.901      0.004       0.018       0.093\n",
       "zipcode_98032       -0.0461      0.025     -1.876      0.061      -0.094       0.002\n",
       "zipcode_98033        0.7885      0.017     46.545      0.000       0.755       0.822\n",
       "zipcode_98034        0.5180      0.016     32.187      0.000       0.486       0.550\n",
       "zipcode_98038        0.1796      0.016     11.295      0.000       0.148       0.211\n",
       "zipcode_98039        1.3561      0.036     37.709      0.000       1.286       1.427\n",
       "zipcode_98040        0.9566      0.019     50.217      0.000       0.919       0.994\n",
       "zipcode_98042        0.0711      0.016      4.434      0.000       0.040       0.103\n",
       "zipcode_98045        0.3552      0.020     17.492      0.000       0.315       0.395\n",
       "zipcode_98052        0.6166      0.016     38.552      0.000       0.585       0.648\n",
       "zipcode_98053        0.6487      0.017     37.570      0.000       0.615       0.682\n",
       "zipcode_98055        0.1266      0.019      6.610      0.000       0.089       0.164\n",
       "zipcode_98056        0.3452      0.017     20.165      0.000       0.312       0.379\n",
       "zipcode_98058        0.1550      0.017      9.252      0.000       0.122       0.188\n",
       "zipcode_98059        0.3693      0.017     22.188      0.000       0.337       0.402\n",
       "zipcode_98065        0.4716      0.018     25.575      0.000       0.435       0.508\n",
       "zipcode_98070        0.5702      0.025     22.682      0.000       0.521       0.619\n",
       "zipcode_98072        0.5155      0.019     27.032      0.000       0.478       0.553\n",
       "zipcode_98074        0.5543      0.017     32.666      0.000       0.521       0.588\n",
       "zipcode_98075        0.6193      0.018     34.564      0.000       0.584       0.654\n",
       "zipcode_98077        0.5254      0.021     24.985      0.000       0.484       0.567\n",
       "zipcode_98092        0.0386      0.018      2.167      0.030       0.004       0.074\n",
       "zipcode_98102        0.8238      0.027     30.875      0.000       0.772       0.876\n",
       "zipcode_98103        0.7212      0.016     45.529      0.000       0.690       0.752\n",
       "zipcode_98105        0.9063      0.020     45.161      0.000       0.867       0.946\n",
       "zipcode_98106        0.2333      0.018     12.940      0.000       0.198       0.269\n",
       "zipcode_98107        0.7074      0.019     36.890      0.000       0.670       0.745\n",
       "zipcode_98108        0.2940      0.021     13.732      0.000       0.252       0.336\n",
       "zipcode_98109        0.9185      0.026     35.117      0.000       0.867       0.970\n",
       "zipcode_98112        0.9901      0.019     51.275      0.000       0.952       1.028\n",
       "zipcode_98115        0.7680      0.016     48.035      0.000       0.737       0.799\n",
       "zipcode_98116        0.7102      0.018     38.994      0.000       0.675       0.746\n",
       "zipcode_98117        0.7414      0.016     45.967      0.000       0.710       0.773\n",
       "zipcode_98118        0.4275      0.016     26.114      0.000       0.395       0.460\n",
       "zipcode_98119        0.8883      0.022     40.830      0.000       0.846       0.931\n",
       "zipcode_98122        0.6825      0.019     36.307      0.000       0.646       0.719\n",
       "zipcode_98125        0.5358      0.017     31.278      0.000       0.502       0.569\n",
       "zipcode_98126        0.4924      0.018     27.568      0.000       0.457       0.527\n",
       "zipcode_98133        0.4026      0.016     24.475      0.000       0.370       0.435\n",
       "zipcode_98136        0.6389      0.019     32.934      0.000       0.601       0.677\n",
       "zipcode_98144        0.6120      0.018     34.088      0.000       0.577       0.647\n",
       "zipcode_98146        0.2901      0.019     15.390      0.000       0.253       0.327\n",
       "zipcode_98148        0.1207      0.034      3.548      0.000       0.054       0.187\n",
       "zipcode_98155        0.4194      0.017     24.939      0.000       0.386       0.452\n",
       "zipcode_98166        0.3883      0.019     19.963      0.000       0.350       0.426\n",
       "zipcode_98168        0.0724      0.019      3.775      0.000       0.035       0.110\n",
       "zipcode_98177        0.6355      0.019     32.704      0.000       0.597       0.674\n",
       "zipcode_98178        0.1710      0.019      8.883      0.000       0.133       0.209\n",
       "zipcode_98188        0.0832      0.024      3.466      0.001       0.036       0.130\n",
       "zipcode_98198        0.1003      0.019      5.296      0.000       0.063       0.137\n",
       "zipcode_98199        0.8107      0.018     44.117      0.000       0.775       0.847\n",
       "has_basement_1.0     0.0560      0.004     15.352      0.000       0.049       0.063\n",
       "renovated_1.0        0.1248      0.009     13.881      0.000       0.107       0.142\n",
       "==============================================================================\n",
       "Omnibus:                     1566.228   Durbin-Watson:                   1.982\n",
       "Prob(Omnibus):                  0.000   Jarque-Bera (JB):             5951.583\n",
       "Skew:                           0.301   Prob(JB):                         0.00\n",
       "Kurtosis:                       5.529   Cond. No.                         578.\n",
       "==============================================================================\n",
       "\n",
       "Notes:\n",
       "[1] Standard Errors assume that the covariance matrix of the errors is correctly specified.\n",
       "\"\"\""
      ]
     },
     "execution_count": 38,
     "metadata": {},
     "output_type": "execute_result"
    }
   ],
   "source": [
    "# Adding in zipcode dummy variables to our model\n",
    "X = pd.concat((X, cat_dummies), axis=1)\n",
    "model_3 = run_model(X , y_log)\n",
    "model_3.summary()"
   ]
  },
  {
   "cell_type": "code",
   "execution_count": 39,
   "metadata": {},
   "outputs": [],
   "source": [
    "# adjusted R Squared value increases by a lot. some Zip's have p-Values > 0.05, we could try removing"
   ]
  },
  {
   "cell_type": "code",
   "execution_count": 40,
   "metadata": {},
   "outputs": [],
   "source": [
    "zips_to_drop = ['zipcode_98002','zipcode_98003','zipcode_98030','zipcode_98032']"
   ]
  },
  {
   "cell_type": "markdown",
   "metadata": {},
   "source": [
    "#### Model 4 - Removing Features with P-values > 0.05"
   ]
  },
  {
   "cell_type": "code",
   "execution_count": 41,
   "metadata": {
    "scrolled": false
   },
   "outputs": [
    {
     "data": {
      "text/html": [
       "<table class=\"simpletable\">\n",
       "<caption>OLS Regression Results</caption>\n",
       "<tr>\n",
       "  <th>Dep. Variable:</th>          <td>price</td>      <th>  R-squared:         </th> <td>   0.802</td>\n",
       "</tr>\n",
       "<tr>\n",
       "  <th>Model:</th>                   <td>OLS</td>       <th>  Adj. R-squared:    </th> <td>   0.802</td>\n",
       "</tr>\n",
       "<tr>\n",
       "  <th>Method:</th>             <td>Least Squares</td>  <th>  F-statistic:       </th> <td>   1221.</td>\n",
       "</tr>\n",
       "<tr>\n",
       "  <th>Date:</th>             <td>Mon, 17 Jan 2022</td> <th>  Prob (F-statistic):</th>  <td>  0.00</td> \n",
       "</tr>\n",
       "<tr>\n",
       "  <th>Time:</th>                 <td>12:29:32</td>     <th>  Log-Likelihood:    </th> <td>  691.24</td>\n",
       "</tr>\n",
       "<tr>\n",
       "  <th>No. Observations:</th>      <td> 21142</td>      <th>  AIC:               </th> <td>  -1240.</td>\n",
       "</tr>\n",
       "<tr>\n",
       "  <th>Df Residuals:</th>          <td> 21071</td>      <th>  BIC:               </th> <td>  -675.4</td>\n",
       "</tr>\n",
       "<tr>\n",
       "  <th>Df Model:</th>              <td>    70</td>      <th>                     </th>     <td> </td>   \n",
       "</tr>\n",
       "<tr>\n",
       "  <th>Covariance Type:</th>      <td>nonrobust</td>    <th>                     </th>     <td> </td>   \n",
       "</tr>\n",
       "</table>\n",
       "<table class=\"simpletable\">\n",
       "<tr>\n",
       "          <td></td>            <th>coef</th>     <th>std err</th>      <th>t</th>      <th>P>|t|</th>  <th>[0.025</th>    <th>0.975]</th>  \n",
       "</tr>\n",
       "<tr>\n",
       "  <th>const</th>            <td>   10.6782</td> <td>    0.014</td> <td>  742.349</td> <td> 0.000</td> <td>   10.650</td> <td>   10.706</td>\n",
       "</tr>\n",
       "<tr>\n",
       "  <th>bedrooms</th>         <td>    0.0536</td> <td>    0.002</td> <td>   24.714</td> <td> 0.000</td> <td>    0.049</td> <td>    0.058</td>\n",
       "</tr>\n",
       "<tr>\n",
       "  <th>bathrooms</th>        <td>    0.0891</td> <td>    0.003</td> <td>   27.888</td> <td> 0.000</td> <td>    0.083</td> <td>    0.095</td>\n",
       "</tr>\n",
       "<tr>\n",
       "  <th>grade</th>            <td>    0.1969</td> <td>    0.002</td> <td>   98.507</td> <td> 0.000</td> <td>    0.193</td> <td>    0.201</td>\n",
       "</tr>\n",
       "<tr>\n",
       "  <th>zipcode_98004</th>    <td>    1.1515</td> <td>    0.015</td> <td>   76.514</td> <td> 0.000</td> <td>    1.122</td> <td>    1.181</td>\n",
       "</tr>\n",
       "<tr>\n",
       "  <th>zipcode_98005</th>    <td>    0.7587</td> <td>    0.019</td> <td>   38.928</td> <td> 0.000</td> <td>    0.721</td> <td>    0.797</td>\n",
       "</tr>\n",
       "<tr>\n",
       "  <th>zipcode_98006</th>    <td>    0.6843</td> <td>    0.013</td> <td>   53.291</td> <td> 0.000</td> <td>    0.659</td> <td>    0.709</td>\n",
       "</tr>\n",
       "<tr>\n",
       "  <th>zipcode_98007</th>    <td>    0.6212</td> <td>    0.021</td> <td>   29.492</td> <td> 0.000</td> <td>    0.580</td> <td>    0.662</td>\n",
       "</tr>\n",
       "<tr>\n",
       "  <th>zipcode_98008</th>    <td>    0.6770</td> <td>    0.016</td> <td>   43.297</td> <td> 0.000</td> <td>    0.646</td> <td>    0.708</td>\n",
       "</tr>\n",
       "<tr>\n",
       "  <th>zipcode_98010</th>    <td>    0.3382</td> <td>    0.025</td> <td>   13.713</td> <td> 0.000</td> <td>    0.290</td> <td>    0.387</td>\n",
       "</tr>\n",
       "<tr>\n",
       "  <th>zipcode_98011</th>    <td>    0.4466</td> <td>    0.018</td> <td>   24.460</td> <td> 0.000</td> <td>    0.411</td> <td>    0.482</td>\n",
       "</tr>\n",
       "<tr>\n",
       "  <th>zipcode_98014</th>    <td>    0.4160</td> <td>    0.022</td> <td>   18.641</td> <td> 0.000</td> <td>    0.372</td> <td>    0.460</td>\n",
       "</tr>\n",
       "<tr>\n",
       "  <th>zipcode_98019</th>    <td>    0.3613</td> <td>    0.018</td> <td>   19.606</td> <td> 0.000</td> <td>    0.325</td> <td>    0.397</td>\n",
       "</tr>\n",
       "<tr>\n",
       "  <th>zipcode_98022</th>    <td>    0.1580</td> <td>    0.017</td> <td>    9.312</td> <td> 0.000</td> <td>    0.125</td> <td>    0.191</td>\n",
       "</tr>\n",
       "<tr>\n",
       "  <th>zipcode_98023</th>    <td>   -0.0547</td> <td>    0.013</td> <td>   -4.330</td> <td> 0.000</td> <td>   -0.079</td> <td>   -0.030</td>\n",
       "</tr>\n",
       "<tr>\n",
       "  <th>zipcode_98024</th>    <td>    0.5521</td> <td>    0.027</td> <td>   20.254</td> <td> 0.000</td> <td>    0.499</td> <td>    0.606</td>\n",
       "</tr>\n",
       "<tr>\n",
       "  <th>zipcode_98027</th>    <td>    0.5218</td> <td>    0.014</td> <td>   38.177</td> <td> 0.000</td> <td>    0.495</td> <td>    0.549</td>\n",
       "</tr>\n",
       "<tr>\n",
       "  <th>zipcode_98028</th>    <td>    0.4202</td> <td>    0.016</td> <td>   26.803</td> <td> 0.000</td> <td>    0.390</td> <td>    0.451</td>\n",
       "</tr>\n",
       "<tr>\n",
       "  <th>zipcode_98029</th>    <td>    0.5261</td> <td>    0.015</td> <td>   34.838</td> <td> 0.000</td> <td>    0.497</td> <td>    0.556</td>\n",
       "</tr>\n",
       "<tr>\n",
       "  <th>zipcode_98031</th>    <td>    0.0578</td> <td>    0.016</td> <td>    3.629</td> <td> 0.000</td> <td>    0.027</td> <td>    0.089</td>\n",
       "</tr>\n",
       "<tr>\n",
       "  <th>zipcode_98033</th>    <td>    0.7909</td> <td>    0.013</td> <td>   59.417</td> <td> 0.000</td> <td>    0.765</td> <td>    0.817</td>\n",
       "</tr>\n",
       "<tr>\n",
       "  <th>zipcode_98034</th>    <td>    0.5206</td> <td>    0.012</td> <td>   42.631</td> <td> 0.000</td> <td>    0.497</td> <td>    0.545</td>\n",
       "</tr>\n",
       "<tr>\n",
       "  <th>zipcode_98038</th>    <td>    0.1820</td> <td>    0.012</td> <td>   15.200</td> <td> 0.000</td> <td>    0.158</td> <td>    0.205</td>\n",
       "</tr>\n",
       "<tr>\n",
       "  <th>zipcode_98039</th>    <td>    1.3584</td> <td>    0.034</td> <td>   39.474</td> <td> 0.000</td> <td>    1.291</td> <td>    1.426</td>\n",
       "</tr>\n",
       "<tr>\n",
       "  <th>zipcode_98040</th>    <td>    0.9590</td> <td>    0.016</td> <td>   60.276</td> <td> 0.000</td> <td>    0.928</td> <td>    0.990</td>\n",
       "</tr>\n",
       "<tr>\n",
       "  <th>zipcode_98042</th>    <td>    0.0736</td> <td>    0.012</td> <td>    6.055</td> <td> 0.000</td> <td>    0.050</td> <td>    0.097</td>\n",
       "</tr>\n",
       "<tr>\n",
       "  <th>zipcode_98045</th>    <td>    0.3576</td> <td>    0.017</td> <td>   20.557</td> <td> 0.000</td> <td>    0.324</td> <td>    0.392</td>\n",
       "</tr>\n",
       "<tr>\n",
       "  <th>zipcode_98052</th>    <td>    0.6190</td> <td>    0.012</td> <td>   51.224</td> <td> 0.000</td> <td>    0.595</td> <td>    0.643</td>\n",
       "</tr>\n",
       "<tr>\n",
       "  <th>zipcode_98053</th>    <td>    0.6510</td> <td>    0.014</td> <td>   47.396</td> <td> 0.000</td> <td>    0.624</td> <td>    0.678</td>\n",
       "</tr>\n",
       "<tr>\n",
       "  <th>zipcode_98055</th>    <td>    0.1291</td> <td>    0.016</td> <td>    8.057</td> <td> 0.000</td> <td>    0.098</td> <td>    0.161</td>\n",
       "</tr>\n",
       "<tr>\n",
       "  <th>zipcode_98056</th>    <td>    0.3477</td> <td>    0.014</td> <td>   25.687</td> <td> 0.000</td> <td>    0.321</td> <td>    0.374</td>\n",
       "</tr>\n",
       "<tr>\n",
       "  <th>zipcode_98058</th>    <td>    0.1575</td> <td>    0.013</td> <td>   12.053</td> <td> 0.000</td> <td>    0.132</td> <td>    0.183</td>\n",
       "</tr>\n",
       "<tr>\n",
       "  <th>zipcode_98059</th>    <td>    0.3717</td> <td>    0.013</td> <td>   28.727</td> <td> 0.000</td> <td>    0.346</td> <td>    0.397</td>\n",
       "</tr>\n",
       "<tr>\n",
       "  <th>zipcode_98065</th>    <td>    0.4739</td> <td>    0.015</td> <td>   31.211</td> <td> 0.000</td> <td>    0.444</td> <td>    0.504</td>\n",
       "</tr>\n",
       "<tr>\n",
       "  <th>zipcode_98070</th>    <td>    0.5727</td> <td>    0.023</td> <td>   25.064</td> <td> 0.000</td> <td>    0.528</td> <td>    0.617</td>\n",
       "</tr>\n",
       "<tr>\n",
       "  <th>zipcode_98072</th>    <td>    0.5180</td> <td>    0.016</td> <td>   32.508</td> <td> 0.000</td> <td>    0.487</td> <td>    0.549</td>\n",
       "</tr>\n",
       "<tr>\n",
       "  <th>zipcode_98074</th>    <td>    0.5566</td> <td>    0.013</td> <td>   41.685</td> <td> 0.000</td> <td>    0.530</td> <td>    0.583</td>\n",
       "</tr>\n",
       "<tr>\n",
       "  <th>zipcode_98075</th>    <td>    0.6215</td> <td>    0.015</td> <td>   42.729</td> <td> 0.000</td> <td>    0.593</td> <td>    0.650</td>\n",
       "</tr>\n",
       "<tr>\n",
       "  <th>zipcode_98077</th>    <td>    0.5278</td> <td>    0.018</td> <td>   28.934</td> <td> 0.000</td> <td>    0.492</td> <td>    0.564</td>\n",
       "</tr>\n",
       "<tr>\n",
       "  <th>zipcode_98092</th>    <td>    0.0410</td> <td>    0.014</td> <td>    2.846</td> <td> 0.004</td> <td>    0.013</td> <td>    0.069</td>\n",
       "</tr>\n",
       "<tr>\n",
       "  <th>zipcode_98102</th>    <td>    0.8263</td> <td>    0.025</td> <td>   33.678</td> <td> 0.000</td> <td>    0.778</td> <td>    0.874</td>\n",
       "</tr>\n",
       "<tr>\n",
       "  <th>zipcode_98103</th>    <td>    0.7237</td> <td>    0.012</td> <td>   60.965</td> <td> 0.000</td> <td>    0.700</td> <td>    0.747</td>\n",
       "</tr>\n",
       "<tr>\n",
       "  <th>zipcode_98105</th>    <td>    0.9089</td> <td>    0.017</td> <td>   53.129</td> <td> 0.000</td> <td>    0.875</td> <td>    0.942</td>\n",
       "</tr>\n",
       "<tr>\n",
       "  <th>zipcode_98106</th>    <td>    0.2359</td> <td>    0.015</td> <td>   16.097</td> <td> 0.000</td> <td>    0.207</td> <td>    0.265</td>\n",
       "</tr>\n",
       "<tr>\n",
       "  <th>zipcode_98107</th>    <td>    0.7100</td> <td>    0.016</td> <td>   44.220</td> <td> 0.000</td> <td>    0.678</td> <td>    0.741</td>\n",
       "</tr>\n",
       "<tr>\n",
       "  <th>zipcode_98108</th>    <td>    0.2966</td> <td>    0.019</td> <td>   15.895</td> <td> 0.000</td> <td>    0.260</td> <td>    0.333</td>\n",
       "</tr>\n",
       "<tr>\n",
       "  <th>zipcode_98109</th>    <td>    0.9211</td> <td>    0.024</td> <td>   38.440</td> <td> 0.000</td> <td>    0.874</td> <td>    0.968</td>\n",
       "</tr>\n",
       "<tr>\n",
       "  <th>zipcode_98112</th>    <td>    0.9926</td> <td>    0.016</td> <td>   61.221</td> <td> 0.000</td> <td>    0.961</td> <td>    1.024</td>\n",
       "</tr>\n",
       "<tr>\n",
       "  <th>zipcode_98115</th>    <td>    0.7707</td> <td>    0.012</td> <td>   63.908</td> <td> 0.000</td> <td>    0.747</td> <td>    0.794</td>\n",
       "</tr>\n",
       "<tr>\n",
       "  <th>zipcode_98116</th>    <td>    0.7128</td> <td>    0.015</td> <td>   47.888</td> <td> 0.000</td> <td>    0.684</td> <td>    0.742</td>\n",
       "</tr>\n",
       "<tr>\n",
       "  <th>zipcode_98117</th>    <td>    0.7440</td> <td>    0.012</td> <td>   60.758</td> <td> 0.000</td> <td>    0.720</td> <td>    0.768</td>\n",
       "</tr>\n",
       "<tr>\n",
       "  <th>zipcode_98118</th>    <td>    0.4301</td> <td>    0.013</td> <td>   34.244</td> <td> 0.000</td> <td>    0.406</td> <td>    0.455</td>\n",
       "</tr>\n",
       "<tr>\n",
       "  <th>zipcode_98119</th>    <td>    0.8908</td> <td>    0.019</td> <td>   46.739</td> <td> 0.000</td> <td>    0.853</td> <td>    0.928</td>\n",
       "</tr>\n",
       "<tr>\n",
       "  <th>zipcode_98122</th>    <td>    0.6851</td> <td>    0.016</td> <td>   43.916</td> <td> 0.000</td> <td>    0.654</td> <td>    0.716</td>\n",
       "</tr>\n",
       "<tr>\n",
       "  <th>zipcode_98125</th>    <td>    0.5385</td> <td>    0.014</td> <td>   39.761</td> <td> 0.000</td> <td>    0.512</td> <td>    0.565</td>\n",
       "</tr>\n",
       "<tr>\n",
       "  <th>zipcode_98126</th>    <td>    0.4951</td> <td>    0.014</td> <td>   34.256</td> <td> 0.000</td> <td>    0.467</td> <td>    0.523</td>\n",
       "</tr>\n",
       "<tr>\n",
       "  <th>zipcode_98133</th>    <td>    0.4052</td> <td>    0.013</td> <td>   31.987</td> <td> 0.000</td> <td>    0.380</td> <td>    0.430</td>\n",
       "</tr>\n",
       "<tr>\n",
       "  <th>zipcode_98136</th>    <td>    0.6416</td> <td>    0.016</td> <td>   39.322</td> <td> 0.000</td> <td>    0.610</td> <td>    0.674</td>\n",
       "</tr>\n",
       "<tr>\n",
       "  <th>zipcode_98144</th>    <td>    0.6146</td> <td>    0.015</td> <td>   42.190</td> <td> 0.000</td> <td>    0.586</td> <td>    0.643</td>\n",
       "</tr>\n",
       "<tr>\n",
       "  <th>zipcode_98146</th>    <td>    0.2928</td> <td>    0.016</td> <td>   18.696</td> <td> 0.000</td> <td>    0.262</td> <td>    0.323</td>\n",
       "</tr>\n",
       "<tr>\n",
       "  <th>zipcode_98148</th>    <td>    0.1232</td> <td>    0.032</td> <td>    3.809</td> <td> 0.000</td> <td>    0.060</td> <td>    0.187</td>\n",
       "</tr>\n",
       "<tr>\n",
       "  <th>zipcode_98155</th>    <td>    0.4220</td> <td>    0.013</td> <td>   32.108</td> <td> 0.000</td> <td>    0.396</td> <td>    0.448</td>\n",
       "</tr>\n",
       "<tr>\n",
       "  <th>zipcode_98166</th>    <td>    0.3909</td> <td>    0.016</td> <td>   23.868</td> <td> 0.000</td> <td>    0.359</td> <td>    0.423</td>\n",
       "</tr>\n",
       "<tr>\n",
       "  <th>zipcode_98168</th>    <td>    0.0752</td> <td>    0.016</td> <td>    4.679</td> <td> 0.000</td> <td>    0.044</td> <td>    0.107</td>\n",
       "</tr>\n",
       "<tr>\n",
       "  <th>zipcode_98177</th>    <td>    0.6380</td> <td>    0.016</td> <td>   39.009</td> <td> 0.000</td> <td>    0.606</td> <td>    0.670</td>\n",
       "</tr>\n",
       "<tr>\n",
       "  <th>zipcode_98178</th>    <td>    0.1737</td> <td>    0.016</td> <td>   10.762</td> <td> 0.000</td> <td>    0.142</td> <td>    0.205</td>\n",
       "</tr>\n",
       "<tr>\n",
       "  <th>zipcode_98188</th>    <td>    0.0858</td> <td>    0.022</td> <td>    3.973</td> <td> 0.000</td> <td>    0.043</td> <td>    0.128</td>\n",
       "</tr>\n",
       "<tr>\n",
       "  <th>zipcode_98198</th>    <td>    0.1029</td> <td>    0.016</td> <td>    6.526</td> <td> 0.000</td> <td>    0.072</td> <td>    0.134</td>\n",
       "</tr>\n",
       "<tr>\n",
       "  <th>zipcode_98199</th>    <td>    0.8133</td> <td>    0.015</td> <td>   53.923</td> <td> 0.000</td> <td>    0.784</td> <td>    0.843</td>\n",
       "</tr>\n",
       "<tr>\n",
       "  <th>has_basement_1.0</th> <td>    0.0557</td> <td>    0.004</td> <td>   15.288</td> <td> 0.000</td> <td>    0.049</td> <td>    0.063</td>\n",
       "</tr>\n",
       "<tr>\n",
       "  <th>renovated_1.0</th>    <td>    0.1246</td> <td>    0.009</td> <td>   13.854</td> <td> 0.000</td> <td>    0.107</td> <td>    0.142</td>\n",
       "</tr>\n",
       "</table>\n",
       "<table class=\"simpletable\">\n",
       "<tr>\n",
       "  <th>Omnibus:</th>       <td>1562.473</td> <th>  Durbin-Watson:     </th> <td>   1.982</td>\n",
       "</tr>\n",
       "<tr>\n",
       "  <th>Prob(Omnibus):</th>  <td> 0.000</td>  <th>  Jarque-Bera (JB):  </th> <td>5934.891</td>\n",
       "</tr>\n",
       "<tr>\n",
       "  <th>Skew:</th>           <td> 0.300</td>  <th>  Prob(JB):          </th> <td>    0.00</td>\n",
       "</tr>\n",
       "<tr>\n",
       "  <th>Kurtosis:</th>       <td> 5.525</td>  <th>  Cond. No.          </th> <td>    315.</td>\n",
       "</tr>\n",
       "</table><br/><br/>Notes:<br/>[1] Standard Errors assume that the covariance matrix of the errors is correctly specified."
      ],
      "text/plain": [
       "<class 'statsmodels.iolib.summary.Summary'>\n",
       "\"\"\"\n",
       "                            OLS Regression Results                            \n",
       "==============================================================================\n",
       "Dep. Variable:                  price   R-squared:                       0.802\n",
       "Model:                            OLS   Adj. R-squared:                  0.802\n",
       "Method:                 Least Squares   F-statistic:                     1221.\n",
       "Date:                Mon, 17 Jan 2022   Prob (F-statistic):               0.00\n",
       "Time:                        12:29:32   Log-Likelihood:                 691.24\n",
       "No. Observations:               21142   AIC:                            -1240.\n",
       "Df Residuals:                   21071   BIC:                            -675.4\n",
       "Df Model:                          70                                         \n",
       "Covariance Type:            nonrobust                                         \n",
       "====================================================================================\n",
       "                       coef    std err          t      P>|t|      [0.025      0.975]\n",
       "------------------------------------------------------------------------------------\n",
       "const               10.6782      0.014    742.349      0.000      10.650      10.706\n",
       "bedrooms             0.0536      0.002     24.714      0.000       0.049       0.058\n",
       "bathrooms            0.0891      0.003     27.888      0.000       0.083       0.095\n",
       "grade                0.1969      0.002     98.507      0.000       0.193       0.201\n",
       "zipcode_98004        1.1515      0.015     76.514      0.000       1.122       1.181\n",
       "zipcode_98005        0.7587      0.019     38.928      0.000       0.721       0.797\n",
       "zipcode_98006        0.6843      0.013     53.291      0.000       0.659       0.709\n",
       "zipcode_98007        0.6212      0.021     29.492      0.000       0.580       0.662\n",
       "zipcode_98008        0.6770      0.016     43.297      0.000       0.646       0.708\n",
       "zipcode_98010        0.3382      0.025     13.713      0.000       0.290       0.387\n",
       "zipcode_98011        0.4466      0.018     24.460      0.000       0.411       0.482\n",
       "zipcode_98014        0.4160      0.022     18.641      0.000       0.372       0.460\n",
       "zipcode_98019        0.3613      0.018     19.606      0.000       0.325       0.397\n",
       "zipcode_98022        0.1580      0.017      9.312      0.000       0.125       0.191\n",
       "zipcode_98023       -0.0547      0.013     -4.330      0.000      -0.079      -0.030\n",
       "zipcode_98024        0.5521      0.027     20.254      0.000       0.499       0.606\n",
       "zipcode_98027        0.5218      0.014     38.177      0.000       0.495       0.549\n",
       "zipcode_98028        0.4202      0.016     26.803      0.000       0.390       0.451\n",
       "zipcode_98029        0.5261      0.015     34.838      0.000       0.497       0.556\n",
       "zipcode_98031        0.0578      0.016      3.629      0.000       0.027       0.089\n",
       "zipcode_98033        0.7909      0.013     59.417      0.000       0.765       0.817\n",
       "zipcode_98034        0.5206      0.012     42.631      0.000       0.497       0.545\n",
       "zipcode_98038        0.1820      0.012     15.200      0.000       0.158       0.205\n",
       "zipcode_98039        1.3584      0.034     39.474      0.000       1.291       1.426\n",
       "zipcode_98040        0.9590      0.016     60.276      0.000       0.928       0.990\n",
       "zipcode_98042        0.0736      0.012      6.055      0.000       0.050       0.097\n",
       "zipcode_98045        0.3576      0.017     20.557      0.000       0.324       0.392\n",
       "zipcode_98052        0.6190      0.012     51.224      0.000       0.595       0.643\n",
       "zipcode_98053        0.6510      0.014     47.396      0.000       0.624       0.678\n",
       "zipcode_98055        0.1291      0.016      8.057      0.000       0.098       0.161\n",
       "zipcode_98056        0.3477      0.014     25.687      0.000       0.321       0.374\n",
       "zipcode_98058        0.1575      0.013     12.053      0.000       0.132       0.183\n",
       "zipcode_98059        0.3717      0.013     28.727      0.000       0.346       0.397\n",
       "zipcode_98065        0.4739      0.015     31.211      0.000       0.444       0.504\n",
       "zipcode_98070        0.5727      0.023     25.064      0.000       0.528       0.617\n",
       "zipcode_98072        0.5180      0.016     32.508      0.000       0.487       0.549\n",
       "zipcode_98074        0.5566      0.013     41.685      0.000       0.530       0.583\n",
       "zipcode_98075        0.6215      0.015     42.729      0.000       0.593       0.650\n",
       "zipcode_98077        0.5278      0.018     28.934      0.000       0.492       0.564\n",
       "zipcode_98092        0.0410      0.014      2.846      0.004       0.013       0.069\n",
       "zipcode_98102        0.8263      0.025     33.678      0.000       0.778       0.874\n",
       "zipcode_98103        0.7237      0.012     60.965      0.000       0.700       0.747\n",
       "zipcode_98105        0.9089      0.017     53.129      0.000       0.875       0.942\n",
       "zipcode_98106        0.2359      0.015     16.097      0.000       0.207       0.265\n",
       "zipcode_98107        0.7100      0.016     44.220      0.000       0.678       0.741\n",
       "zipcode_98108        0.2966      0.019     15.895      0.000       0.260       0.333\n",
       "zipcode_98109        0.9211      0.024     38.440      0.000       0.874       0.968\n",
       "zipcode_98112        0.9926      0.016     61.221      0.000       0.961       1.024\n",
       "zipcode_98115        0.7707      0.012     63.908      0.000       0.747       0.794\n",
       "zipcode_98116        0.7128      0.015     47.888      0.000       0.684       0.742\n",
       "zipcode_98117        0.7440      0.012     60.758      0.000       0.720       0.768\n",
       "zipcode_98118        0.4301      0.013     34.244      0.000       0.406       0.455\n",
       "zipcode_98119        0.8908      0.019     46.739      0.000       0.853       0.928\n",
       "zipcode_98122        0.6851      0.016     43.916      0.000       0.654       0.716\n",
       "zipcode_98125        0.5385      0.014     39.761      0.000       0.512       0.565\n",
       "zipcode_98126        0.4951      0.014     34.256      0.000       0.467       0.523\n",
       "zipcode_98133        0.4052      0.013     31.987      0.000       0.380       0.430\n",
       "zipcode_98136        0.6416      0.016     39.322      0.000       0.610       0.674\n",
       "zipcode_98144        0.6146      0.015     42.190      0.000       0.586       0.643\n",
       "zipcode_98146        0.2928      0.016     18.696      0.000       0.262       0.323\n",
       "zipcode_98148        0.1232      0.032      3.809      0.000       0.060       0.187\n",
       "zipcode_98155        0.4220      0.013     32.108      0.000       0.396       0.448\n",
       "zipcode_98166        0.3909      0.016     23.868      0.000       0.359       0.423\n",
       "zipcode_98168        0.0752      0.016      4.679      0.000       0.044       0.107\n",
       "zipcode_98177        0.6380      0.016     39.009      0.000       0.606       0.670\n",
       "zipcode_98178        0.1737      0.016     10.762      0.000       0.142       0.205\n",
       "zipcode_98188        0.0858      0.022      3.973      0.000       0.043       0.128\n",
       "zipcode_98198        0.1029      0.016      6.526      0.000       0.072       0.134\n",
       "zipcode_98199        0.8133      0.015     53.923      0.000       0.784       0.843\n",
       "has_basement_1.0     0.0557      0.004     15.288      0.000       0.049       0.063\n",
       "renovated_1.0        0.1246      0.009     13.854      0.000       0.107       0.142\n",
       "==============================================================================\n",
       "Omnibus:                     1562.473   Durbin-Watson:                   1.982\n",
       "Prob(Omnibus):                  0.000   Jarque-Bera (JB):             5934.891\n",
       "Skew:                           0.300   Prob(JB):                         0.00\n",
       "Kurtosis:                       5.525   Cond. No.                         315.\n",
       "==============================================================================\n",
       "\n",
       "Notes:\n",
       "[1] Standard Errors assume that the covariance matrix of the errors is correctly specified.\n",
       "\"\"\""
      ]
     },
     "execution_count": 41,
     "metadata": {},
     "output_type": "execute_result"
    }
   ],
   "source": [
    "## Dropping zips with high P-value's\n",
    "X = X.drop(zips_to_drop,axis=1)\n",
    "model_4 = run_model(X, y_log)\n",
    "model_4.summary()"
   ]
  },
  {
   "cell_type": "code",
   "execution_count": 42,
   "metadata": {},
   "outputs": [],
   "source": [
    "# Although the adj. R value does not increase after removal, the F-statistic increases and associated P-value decreases further. This model is best."
   ]
  },
  {
   "cell_type": "markdown",
   "metadata": {},
   "source": [
    "# MODEL EVALUATION"
   ]
  },
  {
   "cell_type": "markdown",
   "metadata": {},
   "source": [
    "#### Train - Test Split to assess model 4's ability to predict"
   ]
  },
  {
   "cell_type": "code",
   "execution_count": 43,
   "metadata": {},
   "outputs": [],
   "source": [
    "# Performing a train-test-split to assess performance, and whether the model is over or underfitting the data.\n",
    "# randomly split the data, 67% train 33% test. \n",
    "from sklearn.model_selection import train_test_split\n",
    "\n",
    "X_train, X_test, y_train, y_test = train_test_split(X, y_log)"
   ]
  },
  {
   "cell_type": "code",
   "execution_count": 44,
   "metadata": {},
   "outputs": [],
   "source": [
    "# apply regression to training X and y data, use to predict X train and X test. \n",
    "from sklearn.linear_model import LinearRegression\n",
    "\n",
    "linreg = LinearRegression()\n",
    "linreg.fit(X_train, y_train)\n",
    "\n",
    "y_hat_train = linreg.predict(X_train)\n",
    "y_hat_test = linreg.predict(X_test)"
   ]
  },
  {
   "cell_type": "code",
   "execution_count": 45,
   "metadata": {},
   "outputs": [
    {
     "name": "stdout",
     "output_type": "stream",
     "text": [
      "Train Root Mean Squarred Error: 0.055\n",
      "Test Root Mean Squarred Error: 0.054\n",
      "\n",
      "Difference between train and test: -2.4%\n"
     ]
    }
   ],
   "source": [
    "#looking at Mean Squared Error of train and test\n",
    "# from sklearn.metrics import root_mean_squared_error\n",
    "\n",
    "mse_train = np.sum((y_train-y_hat_train)**2)/len(y_train)\n",
    "mse_test = np.sum((y_test-y_hat_test)**2)/len(y_test)\n",
    "print('Train Root Mean Squarred Error:', '{:,.3f}'.format(mse_train))\n",
    "print('Test Root Mean Squarred Error:', '{:,.3f}'.format(mse_test))\n",
    "print(\"\\nDifference between train and test:\",'{:.1%}'.format(mse_test / mse_train - 1))"
   ]
  },
  {
   "cell_type": "code",
   "execution_count": 46,
   "metadata": {},
   "outputs": [],
   "source": [
    "## difference can change depending on the randomly chosen sample, so lets do a cross validation with 10 folds"
   ]
  },
  {
   "cell_type": "markdown",
   "metadata": {},
   "source": [
    "#### Cross Validation"
   ]
  },
  {
   "cell_type": "code",
   "execution_count": 47,
   "metadata": {
    "scrolled": true
   },
   "outputs": [
    {
     "name": "stdout",
     "output_type": "stream",
     "text": [
      "With an average MSE of 0.056 when performing cross validation with 20 folds on our test data, we can be more confident in our model's ability to predict new data\n"
     ]
    }
   ],
   "source": [
    "from sklearn.metrics import mean_squared_error\n",
    "from sklearn.model_selection import cross_val_score\n",
    "import sklearn\n",
    "\n",
    "from sklearn.metrics import mean_squared_error, make_scorer\n",
    "from sklearn.model_selection import cross_val_score\n",
    "\n",
    "mse = make_scorer(mean_squared_error)\n",
    "\n",
    "avg_mse = np.mean(cross_val_score(linreg, X, y_log, cv=20, scoring=mse))\n",
    "\n",
    "print('With an average MSE of','{:.3f}'.format(avg_mse), 'when performing cross validation with 20 folds on our test data, we can be more confident in our model\\'s ability to predict new data')"
   ]
  },
  {
   "cell_type": "markdown",
   "metadata": {},
   "source": [
    "#### Final Evaluation"
   ]
  },
  {
   "cell_type": "code",
   "execution_count": 48,
   "metadata": {},
   "outputs": [],
   "source": [
    "# creating dictionary of coefficient names and corresponding values for analysis\n",
    "coefs= dict(model_4.params)"
   ]
  },
  {
   "cell_type": "code",
   "execution_count": 70,
   "metadata": {},
   "outputs": [],
   "source": [
    "# creating function to report on changes for each feature in our model\n",
    "def coef_summary():\n",
    "    for key, value in coefs.items():\n",
    "        if key == 'const':\n",
    "            print('A home in zipcode 98001, with a value of 0 for all other features, would have a sale price of','${:,.0f}'.format(e**coefs['const']))\n",
    "        else:\n",
    "            if 'zipcode' in key:\n",
    "                if value > 0:\n",
    "                    print('Purchasing a home in',key,'would increase the house price by',('{:,.1%}'.format((e**value - 1))))\n",
    "                if value < 0:\n",
    "                    print('Purchasing a home in',key,'would decrease the house price by',('{:,.1%}'.format(abs(e**value - 1))))\n",
    "            else:\n",
    "                if value > 0:\n",
    "                    print('A one unit increase in',key,'would increase the house price by',('{:,.1%}'.format((e**value - 1))))\n",
    "                if value < 0:\n",
    "                    print('A one unit increase',key,'would decrease the house price by',('{:,.1%}'.format(abs(e**value - 1))))"
   ]
  },
  {
   "cell_type": "code",
   "execution_count": 71,
   "metadata": {},
   "outputs": [
    {
     "name": "stdout",
     "output_type": "stream",
     "text": [
      "Final Evaluation:\n",
      "\n",
      "Model 4 is our strongest model for multiple reasons. It has an adj. R squared value of 0.802, suggesting ~80% of variance in the data can\n",
      "be explained by our model's features. This result has the highest F-Statistic, and an associated lowest P-value of < 0.001, meaning we reject the null hypothesis that an\n",
      "intercept-only model would be a better predictor. All features also have an associated P-value of < 0.05, meaning there is less than a 5% chance that these variables have\n",
      "no effect on house price. Lastly, since this model is built for preliminary insights only and is mainly focused on changes in price due to location, we do not have too \n",
      "many specific features that require input, such as exact square footage of the home / lot / basement. Below states the value of a home at it's base (with no features),\n",
      "as well as changes in sale price value for each additional unit of a feature, assuming all other variables are held constant. The changes are reported as a percentage\n",
      "change, as the sale variable is log transformed.\n",
      "\n",
      "A home in zipcode 98001, with a value of 0 for all other features, would have a sale price of $43,398\n",
      "A one unit increase in bedrooms would increase the house price by 5.5%\n",
      "A one unit increase in bathrooms would increase the house price by 9.3%\n",
      "A one unit increase in grade would increase the house price by 21.8%\n",
      "Purchasing a home in zipcode_98004 would increase the house price by 216.3%\n",
      "Purchasing a home in zipcode_98005 would increase the house price by 113.6%\n",
      "Purchasing a home in zipcode_98006 would increase the house price by 98.2%\n",
      "Purchasing a home in zipcode_98007 would increase the house price by 86.1%\n",
      "Purchasing a home in zipcode_98008 would increase the house price by 96.8%\n",
      "Purchasing a home in zipcode_98010 would increase the house price by 40.2%\n",
      "Purchasing a home in zipcode_98011 would increase the house price by 56.3%\n",
      "Purchasing a home in zipcode_98014 would increase the house price by 51.6%\n",
      "Purchasing a home in zipcode_98019 would increase the house price by 43.5%\n",
      "Purchasing a home in zipcode_98022 would increase the house price by 17.1%\n",
      "Purchasing a home in zipcode_98023 would decrease the house price by 5.3%\n",
      "Purchasing a home in zipcode_98024 would increase the house price by 73.7%\n",
      "Purchasing a home in zipcode_98027 would increase the house price by 68.5%\n",
      "Purchasing a home in zipcode_98028 would increase the house price by 52.2%\n",
      "Purchasing a home in zipcode_98029 would increase the house price by 69.2%\n",
      "Purchasing a home in zipcode_98031 would increase the house price by 6.0%\n",
      "Purchasing a home in zipcode_98033 would increase the house price by 120.5%\n",
      "Purchasing a home in zipcode_98034 would increase the house price by 68.3%\n",
      "Purchasing a home in zipcode_98038 would increase the house price by 20.0%\n",
      "Purchasing a home in zipcode_98039 would increase the house price by 289.0%\n",
      "Purchasing a home in zipcode_98040 would increase the house price by 160.9%\n",
      "Purchasing a home in zipcode_98042 would increase the house price by 7.6%\n",
      "Purchasing a home in zipcode_98045 would increase the house price by 43.0%\n",
      "Purchasing a home in zipcode_98052 would increase the house price by 85.7%\n",
      "Purchasing a home in zipcode_98053 would increase the house price by 91.7%\n",
      "Purchasing a home in zipcode_98055 would increase the house price by 13.8%\n",
      "Purchasing a home in zipcode_98056 would increase the house price by 41.6%\n",
      "Purchasing a home in zipcode_98058 would increase the house price by 17.1%\n",
      "Purchasing a home in zipcode_98059 would increase the house price by 45.0%\n",
      "Purchasing a home in zipcode_98065 would increase the house price by 60.6%\n",
      "Purchasing a home in zipcode_98070 would increase the house price by 77.3%\n",
      "Purchasing a home in zipcode_98072 would increase the house price by 67.9%\n",
      "Purchasing a home in zipcode_98074 would increase the house price by 74.5%\n",
      "Purchasing a home in zipcode_98075 would increase the house price by 86.2%\n",
      "Purchasing a home in zipcode_98077 would increase the house price by 69.5%\n",
      "Purchasing a home in zipcode_98092 would increase the house price by 4.2%\n",
      "Purchasing a home in zipcode_98102 would increase the house price by 128.5%\n",
      "Purchasing a home in zipcode_98103 would increase the house price by 106.2%\n",
      "Purchasing a home in zipcode_98105 would increase the house price by 148.2%\n",
      "Purchasing a home in zipcode_98106 would increase the house price by 26.6%\n",
      "Purchasing a home in zipcode_98107 would increase the house price by 103.4%\n",
      "Purchasing a home in zipcode_98108 would increase the house price by 34.5%\n",
      "Purchasing a home in zipcode_98109 would increase the house price by 151.2%\n",
      "Purchasing a home in zipcode_98112 would increase the house price by 169.8%\n",
      "Purchasing a home in zipcode_98115 would increase the house price by 116.1%\n",
      "Purchasing a home in zipcode_98116 would increase the house price by 104.0%\n",
      "Purchasing a home in zipcode_98117 would increase the house price by 110.4%\n",
      "Purchasing a home in zipcode_98118 would increase the house price by 53.7%\n",
      "Purchasing a home in zipcode_98119 would increase the house price by 143.7%\n",
      "Purchasing a home in zipcode_98122 would increase the house price by 98.4%\n",
      "Purchasing a home in zipcode_98125 would increase the house price by 71.3%\n",
      "Purchasing a home in zipcode_98126 would increase the house price by 64.1%\n",
      "Purchasing a home in zipcode_98133 would increase the house price by 50.0%\n",
      "Purchasing a home in zipcode_98136 would increase the house price by 90.0%\n",
      "Purchasing a home in zipcode_98144 would increase the house price by 84.9%\n",
      "Purchasing a home in zipcode_98146 would increase the house price by 34.0%\n",
      "Purchasing a home in zipcode_98148 would increase the house price by 13.1%\n",
      "Purchasing a home in zipcode_98155 would increase the house price by 52.5%\n",
      "Purchasing a home in zipcode_98166 would increase the house price by 47.8%\n",
      "Purchasing a home in zipcode_98168 would increase the house price by 7.8%\n",
      "Purchasing a home in zipcode_98177 would increase the house price by 89.3%\n",
      "Purchasing a home in zipcode_98178 would increase the house price by 19.0%\n",
      "Purchasing a home in zipcode_98188 would increase the house price by 9.0%\n",
      "Purchasing a home in zipcode_98198 would increase the house price by 10.8%\n",
      "Purchasing a home in zipcode_98199 would increase the house price by 125.5%\n",
      "A one unit increase in has_basement_1.0 would increase the house price by 5.7%\n",
      "A one unit increase in renovated_1.0 would increase the house price by 13.3%\n"
     ]
    }
   ],
   "source": [
    "print('''Final Evaluation:\\n\\nModel 4 is our strongest model for multiple reasons. It has an adj. R squared value of 0.802, suggesting ~80% of variance in the data can\n",
    "be explained by our model's features. This result has the highest F-Statistic, and an associated lowest P-value of < 0.001, meaning we reject the null hypothesis that an\n",
    "intercept-only model would be a better predictor. All features also have an associated P-value of < 0.05, meaning there is less than a 5% chance that these variables have\n",
    "no effect on house price. Lastly, since this model is built for preliminary insights only and is mainly focused on changes in price due to location, we do not have too \n",
    "many specific features that require input, such as exact square footage of the home / lot / basement. Below states the value of a home at it's base (with no features),\n",
    "as well as changes in sale price value for each additional unit of a feature, assuming all other variables are held constant. The changes are reported as a percentage\n",
    "change, as the sale variable is log transformed.\\n''') \n",
    "coef_summary()"
   ]
  },
  {
   "cell_type": "markdown",
   "metadata": {},
   "source": [
    "## BEGINNING DEPLOYMENT"
   ]
  },
  {
   "cell_type": "raw",
   "metadata": {},
   "source": [
    "The details of the five familys being considered for this program are listed below:\n",
    "\n",
    "Family 1 would like a 3 bedroom, 2 bathroom house in zipcode 98011. They would prefer a basement and a home quality of at least 6/10\n",
    "Family 3 would like a 2 bedroom, 1 bathroom house in zipcode 98032. They would prefer a home quality of at least 6/10\n",
    "Family 3 would like a 1 bedroom, 1 bathroom house in zipcode 98045. They would prefer a home quality of at least 8/10\n",
    "Family 4 would like a 4 bedroom, 3 bathroom house in zipcode 98065. They would prefer a basement and a home quality of at least 6/10\n",
    "Family 5 would like a 1 bedroom, 2 bathroom house in zipcode 98001. They would prefer a home quality of at least 5/10"
   ]
  },
  {
   "cell_type": "code",
   "execution_count": 72,
   "metadata": {},
   "outputs": [],
   "source": [
    "# Writing a function that generates the input to predict using the model created. We will then apply this function to each family\n",
    "\n",
    "X = X.reindex(sorted(X.columns, reverse = True), axis=1)\n",
    "def hhold_details(zipcode,renovated,has_basement,grade,bedrooms,bathrooms):\n",
    "    pred_list = [0] * len([x for x in X.columns if x[:3] == 'zip'])\n",
    "    \n",
    "    if zipcode == 98001 or 'zipcode_'+str(zipcode) in zips_to_drop:\n",
    "        pass\n",
    "    else:\n",
    "        zipcode = 'zipcode_'+str(zipcode)\n",
    "        zip_idx = X.columns.get_loc(zipcode)\n",
    "        pred_list[zip_idx] = 1\n",
    "\n",
    "    pred_list.append(renovated)\n",
    "    pred_list.append(has_basement)\n",
    "    pred_list.append(grade)\n",
    "    pred_list.append(bedrooms)\n",
    "    pred_list.append(bathrooms)\n",
    "    return pred_list"
   ]
  },
  {
   "cell_type": "code",
   "execution_count": 74,
   "metadata": {},
   "outputs": [
    {
     "data": {
      "text/plain": [
       "LinearRegression()"
      ]
     },
     "execution_count": 74,
     "metadata": {},
     "output_type": "execute_result"
    }
   ],
   "source": [
    "# Fitting Model to final X and y. \n",
    "regr = linear_model.LinearRegression()\n",
    "regr.fit(X, y_log)"
   ]
  },
  {
   "cell_type": "code",
   "execution_count": 75,
   "metadata": {},
   "outputs": [],
   "source": [
    "# Using function to generate predictor list for each family\n",
    "fam1 = hhold_details(bedrooms = 3, bathrooms = 2, grade = 6, zipcode = 98011, has_basement = 1, renovated = 0)\n",
    "fam2 = hhold_details(bedrooms = 2, bathrooms = 1, grade = 6, zipcode = 98032, has_basement = 0, renovated = 0)\n",
    "fam3 = hhold_details(bedrooms = 1, bathrooms = 1, grade = 8, zipcode = 98045, has_basement = 0, renovated = 0)\n",
    "fam4 = hhold_details(bedrooms = 4, bathrooms = 3, grade = 6, zipcode = 98065, has_basement = 1, renovated = 0)\n",
    "fam5 = hhold_details(bedrooms = 1, bathrooms = 2, grade = 5, zipcode = 98001, has_basement = 0, renovated = 0)"
   ]
  },
  {
   "cell_type": "code",
   "execution_count": 84,
   "metadata": {},
   "outputs": [
    {
     "name": "stdout",
     "output_type": "stream",
     "text": [
      "The predicted cost of a home with these features and in this zipcode would be $ 328,112, requiring a down payment of at least $ 98,433\n",
      "The predicted cost of a home with these features and in this zipcode would be $ 172,145, requiring a down payment of at least $ 51,644\n",
      "The predicted cost of a home with these features and in this zipcode would be $ 345,946, requiring a down payment of at least $ 103,784\n",
      "The predicted cost of a home with these features and in this zipcode would be $ 388,881, requiring a down payment of at least $ 116,664\n",
      "The predicted cost of a home with these features and in this zipcode would be $ 146,478, requiring a down payment of at least $ 43,944\n",
      "\n",
      "Total Budget Required: At least $ 414,469\n"
     ]
    }
   ],
   "source": [
    "# Calculating price prediction based on house featurs, as well as the overall budget required, assuming the down payment is 30% of the total house price.\n",
    "overall_spend = []\n",
    "for fam in [fam1,fam2,fam3,fam4,fam5]:\n",
    "    pred_fam = regr.predict([fam])\n",
    "    overall_spend.append(e**pred_fam[0]*.30)\n",
    "\n",
    "    print('The predicted cost of a home with these features and in this zipcode would be '+'$ {:,.0f}'.format(e**pred_fam[0])+', requiring a down payment of at least '+'$ {:,.0f}'.format(e**pred_fam[0]*.30))\n",
    "print('\\nTotal Budget Required: At least '+'$ {:,.0f}'.format(sum(overall_spend)))"
   ]
  }
 ],
 "metadata": {
  "kernelspec": {
   "display_name": "Python 3",
   "language": "python",
   "name": "python3"
  },
  "language_info": {
   "codemirror_mode": {
    "name": "ipython",
    "version": 3
   },
   "file_extension": ".py",
   "mimetype": "text/x-python",
   "name": "python",
   "nbconvert_exporter": "python",
   "pygments_lexer": "ipython3",
   "version": "3.8.5"
  }
 },
 "nbformat": 4,
 "nbformat_minor": 2
}
